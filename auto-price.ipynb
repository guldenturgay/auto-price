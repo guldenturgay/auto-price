{
 "cells": [
  {
   "cell_type": "markdown",
   "metadata": {},
   "source": [
    "## Exploratory Analysis"
   ]
  },
  {
   "cell_type": "code",
   "execution_count": 1,
   "metadata": {},
   "outputs": [],
   "source": [
    "import pandas as pd\n",
    "import numpy as np\n",
    "from scipy import stats\n",
    "import sklearn"
   ]
  },
  {
   "cell_type": "markdown",
   "metadata": {},
   "source": [
    "### Reading the Data"
   ]
  },
  {
   "cell_type": "code",
   "execution_count": 2,
   "metadata": {},
   "outputs": [
    {
     "data": {
      "text/html": [
       "<div>\n",
       "<style scoped>\n",
       "    .dataframe tbody tr th:only-of-type {\n",
       "        vertical-align: middle;\n",
       "    }\n",
       "\n",
       "    .dataframe tbody tr th {\n",
       "        vertical-align: top;\n",
       "    }\n",
       "\n",
       "    .dataframe thead th {\n",
       "        text-align: right;\n",
       "    }\n",
       "</style>\n",
       "<table border=\"1\" class=\"dataframe\">\n",
       "  <thead>\n",
       "    <tr style=\"text-align: right;\">\n",
       "      <th></th>\n",
       "      <th>symboling</th>\n",
       "      <th>normalized_losses</th>\n",
       "      <th>make</th>\n",
       "      <th>fuel_type</th>\n",
       "      <th>aspiration</th>\n",
       "      <th>num_of_doors</th>\n",
       "      <th>body_style</th>\n",
       "      <th>drive_wheels</th>\n",
       "      <th>engine_location</th>\n",
       "      <th>wheel_base</th>\n",
       "      <th>...</th>\n",
       "      <th>engine_size</th>\n",
       "      <th>fuel_system</th>\n",
       "      <th>bore</th>\n",
       "      <th>stroke</th>\n",
       "      <th>compression_ratio</th>\n",
       "      <th>horsepower</th>\n",
       "      <th>peak_rpm</th>\n",
       "      <th>city_mpg</th>\n",
       "      <th>highway_mpg</th>\n",
       "      <th>price</th>\n",
       "    </tr>\n",
       "  </thead>\n",
       "  <tbody>\n",
       "    <tr>\n",
       "      <th>0</th>\n",
       "      <td>3</td>\n",
       "      <td>?</td>\n",
       "      <td>alfa-romero</td>\n",
       "      <td>gas</td>\n",
       "      <td>std</td>\n",
       "      <td>two</td>\n",
       "      <td>convertible</td>\n",
       "      <td>rwd</td>\n",
       "      <td>front</td>\n",
       "      <td>88.6</td>\n",
       "      <td>...</td>\n",
       "      <td>130</td>\n",
       "      <td>mpfi</td>\n",
       "      <td>3.47</td>\n",
       "      <td>2.68</td>\n",
       "      <td>9.0</td>\n",
       "      <td>111</td>\n",
       "      <td>5000</td>\n",
       "      <td>21</td>\n",
       "      <td>27</td>\n",
       "      <td>13495</td>\n",
       "    </tr>\n",
       "    <tr>\n",
       "      <th>1</th>\n",
       "      <td>3</td>\n",
       "      <td>?</td>\n",
       "      <td>alfa-romero</td>\n",
       "      <td>gas</td>\n",
       "      <td>std</td>\n",
       "      <td>two</td>\n",
       "      <td>convertible</td>\n",
       "      <td>rwd</td>\n",
       "      <td>front</td>\n",
       "      <td>88.6</td>\n",
       "      <td>...</td>\n",
       "      <td>130</td>\n",
       "      <td>mpfi</td>\n",
       "      <td>3.47</td>\n",
       "      <td>2.68</td>\n",
       "      <td>9.0</td>\n",
       "      <td>111</td>\n",
       "      <td>5000</td>\n",
       "      <td>21</td>\n",
       "      <td>27</td>\n",
       "      <td>16500</td>\n",
       "    </tr>\n",
       "    <tr>\n",
       "      <th>2</th>\n",
       "      <td>1</td>\n",
       "      <td>?</td>\n",
       "      <td>alfa-romero</td>\n",
       "      <td>gas</td>\n",
       "      <td>std</td>\n",
       "      <td>two</td>\n",
       "      <td>hatchback</td>\n",
       "      <td>rwd</td>\n",
       "      <td>front</td>\n",
       "      <td>94.5</td>\n",
       "      <td>...</td>\n",
       "      <td>152</td>\n",
       "      <td>mpfi</td>\n",
       "      <td>2.68</td>\n",
       "      <td>3.47</td>\n",
       "      <td>9.0</td>\n",
       "      <td>154</td>\n",
       "      <td>5000</td>\n",
       "      <td>19</td>\n",
       "      <td>26</td>\n",
       "      <td>16500</td>\n",
       "    </tr>\n",
       "    <tr>\n",
       "      <th>3</th>\n",
       "      <td>2</td>\n",
       "      <td>164</td>\n",
       "      <td>audi</td>\n",
       "      <td>gas</td>\n",
       "      <td>std</td>\n",
       "      <td>four</td>\n",
       "      <td>sedan</td>\n",
       "      <td>fwd</td>\n",
       "      <td>front</td>\n",
       "      <td>99.8</td>\n",
       "      <td>...</td>\n",
       "      <td>109</td>\n",
       "      <td>mpfi</td>\n",
       "      <td>3.19</td>\n",
       "      <td>3.40</td>\n",
       "      <td>10.0</td>\n",
       "      <td>102</td>\n",
       "      <td>5500</td>\n",
       "      <td>24</td>\n",
       "      <td>30</td>\n",
       "      <td>13950</td>\n",
       "    </tr>\n",
       "    <tr>\n",
       "      <th>4</th>\n",
       "      <td>2</td>\n",
       "      <td>164</td>\n",
       "      <td>audi</td>\n",
       "      <td>gas</td>\n",
       "      <td>std</td>\n",
       "      <td>four</td>\n",
       "      <td>sedan</td>\n",
       "      <td>4wd</td>\n",
       "      <td>front</td>\n",
       "      <td>99.4</td>\n",
       "      <td>...</td>\n",
       "      <td>136</td>\n",
       "      <td>mpfi</td>\n",
       "      <td>3.19</td>\n",
       "      <td>3.40</td>\n",
       "      <td>8.0</td>\n",
       "      <td>115</td>\n",
       "      <td>5500</td>\n",
       "      <td>18</td>\n",
       "      <td>22</td>\n",
       "      <td>17450</td>\n",
       "    </tr>\n",
       "  </tbody>\n",
       "</table>\n",
       "<p>5 rows × 26 columns</p>\n",
       "</div>"
      ],
      "text/plain": [
       "   symboling normalized_losses         make fuel_type aspiration num_of_doors  \\\n",
       "0          3                 ?  alfa-romero       gas        std          two   \n",
       "1          3                 ?  alfa-romero       gas        std          two   \n",
       "2          1                 ?  alfa-romero       gas        std          two   \n",
       "3          2               164         audi       gas        std         four   \n",
       "4          2               164         audi       gas        std         four   \n",
       "\n",
       "    body_style drive_wheels engine_location  wheel_base  ...  engine_size  \\\n",
       "0  convertible          rwd           front        88.6  ...          130   \n",
       "1  convertible          rwd           front        88.6  ...          130   \n",
       "2    hatchback          rwd           front        94.5  ...          152   \n",
       "3        sedan          fwd           front        99.8  ...          109   \n",
       "4        sedan          4wd           front        99.4  ...          136   \n",
       "\n",
       "   fuel_system  bore  stroke compression_ratio horsepower  peak_rpm city_mpg  \\\n",
       "0         mpfi  3.47    2.68               9.0        111      5000       21   \n",
       "1         mpfi  3.47    2.68               9.0        111      5000       21   \n",
       "2         mpfi  2.68    3.47               9.0        154      5000       19   \n",
       "3         mpfi  3.19    3.40              10.0        102      5500       24   \n",
       "4         mpfi  3.19    3.40               8.0        115      5500       18   \n",
       "\n",
       "  highway_mpg  price  \n",
       "0          27  13495  \n",
       "1          27  16500  \n",
       "2          26  16500  \n",
       "3          30  13950  \n",
       "4          22  17450  \n",
       "\n",
       "[5 rows x 26 columns]"
      ]
     },
     "execution_count": 2,
     "metadata": {},
     "output_type": "execute_result"
    }
   ],
   "source": [
    "auto_price = pd.read_csv('data/imports-85.csv', header=None)\n",
    "auto_price.columns = ['symboling','normalized_losses','make','fuel_type','aspiration','num_of_doors','body_style',\n",
    "                       'drive_wheels','engine_location','wheel_base','length','width','height','curb_weight','engine_type',\n",
    "                       'num_of_cylinders','engine_size','fuel_system','bore','stroke','compression_ratio','horsepower',\n",
    "                       'peak_rpm','city_mpg','highway_mpg','price']\n",
    "auto_price.head()"
   ]
  },
  {
   "cell_type": "markdown",
   "metadata": {},
   "source": [
    "### Data Cleaning"
   ]
  },
  {
   "cell_type": "code",
   "execution_count": 3,
   "metadata": {},
   "outputs": [],
   "source": [
    "auto_price = auto_price.replace('?', np.nan)"
   ]
  },
  {
   "cell_type": "code",
   "execution_count": 4,
   "metadata": {},
   "outputs": [
    {
     "name": "stdout",
     "output_type": "stream",
     "text": [
      "<class 'pandas.core.frame.DataFrame'>\n",
      "RangeIndex: 205 entries, 0 to 204\n",
      "Data columns (total 26 columns):\n",
      " #   Column             Non-Null Count  Dtype  \n",
      "---  ------             --------------  -----  \n",
      " 0   symboling          205 non-null    int64  \n",
      " 1   normalized_losses  164 non-null    object \n",
      " 2   make               205 non-null    object \n",
      " 3   fuel_type          205 non-null    object \n",
      " 4   aspiration         205 non-null    object \n",
      " 5   num_of_doors       203 non-null    object \n",
      " 6   body_style         205 non-null    object \n",
      " 7   drive_wheels       205 non-null    object \n",
      " 8   engine_location    205 non-null    object \n",
      " 9   wheel_base         205 non-null    float64\n",
      " 10  length             205 non-null    float64\n",
      " 11  width              205 non-null    float64\n",
      " 12  height             205 non-null    float64\n",
      " 13  curb_weight        205 non-null    int64  \n",
      " 14  engine_type        205 non-null    object \n",
      " 15  num_of_cylinders   205 non-null    object \n",
      " 16  engine_size        205 non-null    int64  \n",
      " 17  fuel_system        205 non-null    object \n",
      " 18  bore               201 non-null    object \n",
      " 19  stroke             201 non-null    object \n",
      " 20  compression_ratio  205 non-null    float64\n",
      " 21  horsepower         203 non-null    object \n",
      " 22  peak_rpm           203 non-null    object \n",
      " 23  city_mpg           205 non-null    int64  \n",
      " 24  highway_mpg        205 non-null    int64  \n",
      " 25  price              201 non-null    object \n",
      "dtypes: float64(5), int64(5), object(16)\n",
      "memory usage: 41.8+ KB\n"
     ]
    }
   ],
   "source": [
    "auto_price.info()"
   ]
  },
  {
   "cell_type": "code",
   "execution_count": 5,
   "metadata": {},
   "outputs": [],
   "source": [
    "auto_price.iloc[:,:-1] = auto_price.iloc[:,:-1].fillna(auto_price.iloc[:,:-1].median())"
   ]
  },
  {
   "cell_type": "code",
   "execution_count": 6,
   "metadata": {},
   "outputs": [],
   "source": [
    "auto_price['price'] = auto_price['price'].apply(pd.to_numeric, errors='coerce')\n",
    "auto_price['price'] = auto_price['price'].fillna(auto_price['price'].mean())"
   ]
  },
  {
   "cell_type": "code",
   "execution_count": 7,
   "metadata": {},
   "outputs": [
    {
     "data": {
      "text/plain": [
       "four    114\n",
       "two      89\n",
       "Name: num_of_doors, dtype: int64"
      ]
     },
     "execution_count": 7,
     "metadata": {},
     "output_type": "execute_result"
    }
   ],
   "source": [
    "auto_price['num_of_doors'].value_counts()"
   ]
  },
  {
   "cell_type": "code",
   "execution_count": 8,
   "metadata": {},
   "outputs": [],
   "source": [
    "auto_price['num_of_doors'] = auto_price['num_of_doors'].fillna('four')"
   ]
  },
  {
   "cell_type": "code",
   "execution_count": 9,
   "metadata": {},
   "outputs": [
    {
     "data": {
      "text/html": [
       "<div>\n",
       "<style scoped>\n",
       "    .dataframe tbody tr th:only-of-type {\n",
       "        vertical-align: middle;\n",
       "    }\n",
       "\n",
       "    .dataframe tbody tr th {\n",
       "        vertical-align: top;\n",
       "    }\n",
       "\n",
       "    .dataframe thead th {\n",
       "        text-align: right;\n",
       "    }\n",
       "</style>\n",
       "<table border=\"1\" class=\"dataframe\">\n",
       "  <thead>\n",
       "    <tr style=\"text-align: right;\">\n",
       "      <th></th>\n",
       "      <th>symboling</th>\n",
       "      <th>normalized_losses</th>\n",
       "      <th>make</th>\n",
       "      <th>fuel_type</th>\n",
       "      <th>aspiration</th>\n",
       "      <th>num_of_doors</th>\n",
       "      <th>body_style</th>\n",
       "      <th>drive_wheels</th>\n",
       "      <th>engine_location</th>\n",
       "      <th>wheel_base</th>\n",
       "      <th>...</th>\n",
       "      <th>engine_size</th>\n",
       "      <th>fuel_system</th>\n",
       "      <th>bore</th>\n",
       "      <th>stroke</th>\n",
       "      <th>compression_ratio</th>\n",
       "      <th>horsepower</th>\n",
       "      <th>peak_rpm</th>\n",
       "      <th>city_mpg</th>\n",
       "      <th>highway_mpg</th>\n",
       "      <th>price</th>\n",
       "    </tr>\n",
       "  </thead>\n",
       "  <tbody>\n",
       "    <tr>\n",
       "      <th>0</th>\n",
       "      <td>3</td>\n",
       "      <td>115</td>\n",
       "      <td>alfa-romero</td>\n",
       "      <td>gas</td>\n",
       "      <td>std</td>\n",
       "      <td>two</td>\n",
       "      <td>convertible</td>\n",
       "      <td>rwd</td>\n",
       "      <td>front</td>\n",
       "      <td>88.6</td>\n",
       "      <td>...</td>\n",
       "      <td>130</td>\n",
       "      <td>mpfi</td>\n",
       "      <td>3.47</td>\n",
       "      <td>2.68</td>\n",
       "      <td>9.0</td>\n",
       "      <td>111</td>\n",
       "      <td>5000</td>\n",
       "      <td>21</td>\n",
       "      <td>27</td>\n",
       "      <td>13495.0</td>\n",
       "    </tr>\n",
       "    <tr>\n",
       "      <th>1</th>\n",
       "      <td>3</td>\n",
       "      <td>115</td>\n",
       "      <td>alfa-romero</td>\n",
       "      <td>gas</td>\n",
       "      <td>std</td>\n",
       "      <td>two</td>\n",
       "      <td>convertible</td>\n",
       "      <td>rwd</td>\n",
       "      <td>front</td>\n",
       "      <td>88.6</td>\n",
       "      <td>...</td>\n",
       "      <td>130</td>\n",
       "      <td>mpfi</td>\n",
       "      <td>3.47</td>\n",
       "      <td>2.68</td>\n",
       "      <td>9.0</td>\n",
       "      <td>111</td>\n",
       "      <td>5000</td>\n",
       "      <td>21</td>\n",
       "      <td>27</td>\n",
       "      <td>16500.0</td>\n",
       "    </tr>\n",
       "    <tr>\n",
       "      <th>2</th>\n",
       "      <td>1</td>\n",
       "      <td>115</td>\n",
       "      <td>alfa-romero</td>\n",
       "      <td>gas</td>\n",
       "      <td>std</td>\n",
       "      <td>two</td>\n",
       "      <td>hatchback</td>\n",
       "      <td>rwd</td>\n",
       "      <td>front</td>\n",
       "      <td>94.5</td>\n",
       "      <td>...</td>\n",
       "      <td>152</td>\n",
       "      <td>mpfi</td>\n",
       "      <td>2.68</td>\n",
       "      <td>3.47</td>\n",
       "      <td>9.0</td>\n",
       "      <td>154</td>\n",
       "      <td>5000</td>\n",
       "      <td>19</td>\n",
       "      <td>26</td>\n",
       "      <td>16500.0</td>\n",
       "    </tr>\n",
       "    <tr>\n",
       "      <th>3</th>\n",
       "      <td>2</td>\n",
       "      <td>164</td>\n",
       "      <td>audi</td>\n",
       "      <td>gas</td>\n",
       "      <td>std</td>\n",
       "      <td>four</td>\n",
       "      <td>sedan</td>\n",
       "      <td>fwd</td>\n",
       "      <td>front</td>\n",
       "      <td>99.8</td>\n",
       "      <td>...</td>\n",
       "      <td>109</td>\n",
       "      <td>mpfi</td>\n",
       "      <td>3.19</td>\n",
       "      <td>3.40</td>\n",
       "      <td>10.0</td>\n",
       "      <td>102</td>\n",
       "      <td>5500</td>\n",
       "      <td>24</td>\n",
       "      <td>30</td>\n",
       "      <td>13950.0</td>\n",
       "    </tr>\n",
       "    <tr>\n",
       "      <th>4</th>\n",
       "      <td>2</td>\n",
       "      <td>164</td>\n",
       "      <td>audi</td>\n",
       "      <td>gas</td>\n",
       "      <td>std</td>\n",
       "      <td>four</td>\n",
       "      <td>sedan</td>\n",
       "      <td>4wd</td>\n",
       "      <td>front</td>\n",
       "      <td>99.4</td>\n",
       "      <td>...</td>\n",
       "      <td>136</td>\n",
       "      <td>mpfi</td>\n",
       "      <td>3.19</td>\n",
       "      <td>3.40</td>\n",
       "      <td>8.0</td>\n",
       "      <td>115</td>\n",
       "      <td>5500</td>\n",
       "      <td>18</td>\n",
       "      <td>22</td>\n",
       "      <td>17450.0</td>\n",
       "    </tr>\n",
       "  </tbody>\n",
       "</table>\n",
       "<p>5 rows × 26 columns</p>\n",
       "</div>"
      ],
      "text/plain": [
       "   symboling normalized_losses         make fuel_type aspiration num_of_doors  \\\n",
       "0          3               115  alfa-romero       gas        std          two   \n",
       "1          3               115  alfa-romero       gas        std          two   \n",
       "2          1               115  alfa-romero       gas        std          two   \n",
       "3          2               164         audi       gas        std         four   \n",
       "4          2               164         audi       gas        std         four   \n",
       "\n",
       "    body_style drive_wheels engine_location  wheel_base  ...  engine_size  \\\n",
       "0  convertible          rwd           front        88.6  ...          130   \n",
       "1  convertible          rwd           front        88.6  ...          130   \n",
       "2    hatchback          rwd           front        94.5  ...          152   \n",
       "3        sedan          fwd           front        99.8  ...          109   \n",
       "4        sedan          4wd           front        99.4  ...          136   \n",
       "\n",
       "   fuel_system  bore  stroke compression_ratio horsepower  peak_rpm city_mpg  \\\n",
       "0         mpfi  3.47    2.68               9.0        111      5000       21   \n",
       "1         mpfi  3.47    2.68               9.0        111      5000       21   \n",
       "2         mpfi  2.68    3.47               9.0        154      5000       19   \n",
       "3         mpfi  3.19    3.40              10.0        102      5500       24   \n",
       "4         mpfi  3.19    3.40               8.0        115      5500       18   \n",
       "\n",
       "  highway_mpg    price  \n",
       "0          27  13495.0  \n",
       "1          27  16500.0  \n",
       "2          26  16500.0  \n",
       "3          30  13950.0  \n",
       "4          22  17450.0  \n",
       "\n",
       "[5 rows x 26 columns]"
      ]
     },
     "execution_count": 9,
     "metadata": {},
     "output_type": "execute_result"
    }
   ],
   "source": [
    "auto_price.head()"
   ]
  },
  {
   "cell_type": "code",
   "execution_count": 10,
   "metadata": {
    "scrolled": true
   },
   "outputs": [
    {
     "name": "stdout",
     "output_type": "stream",
     "text": [
      "<class 'pandas.core.frame.DataFrame'>\n",
      "RangeIndex: 205 entries, 0 to 204\n",
      "Data columns (total 26 columns):\n",
      " #   Column             Non-Null Count  Dtype  \n",
      "---  ------             --------------  -----  \n",
      " 0   symboling          205 non-null    int64  \n",
      " 1   normalized_losses  205 non-null    object \n",
      " 2   make               205 non-null    object \n",
      " 3   fuel_type          205 non-null    object \n",
      " 4   aspiration         205 non-null    object \n",
      " 5   num_of_doors       205 non-null    object \n",
      " 6   body_style         205 non-null    object \n",
      " 7   drive_wheels       205 non-null    object \n",
      " 8   engine_location    205 non-null    object \n",
      " 9   wheel_base         205 non-null    float64\n",
      " 10  length             205 non-null    float64\n",
      " 11  width              205 non-null    float64\n",
      " 12  height             205 non-null    float64\n",
      " 13  curb_weight        205 non-null    int64  \n",
      " 14  engine_type        205 non-null    object \n",
      " 15  num_of_cylinders   205 non-null    object \n",
      " 16  engine_size        205 non-null    int64  \n",
      " 17  fuel_system        205 non-null    object \n",
      " 18  bore               205 non-null    object \n",
      " 19  stroke             205 non-null    object \n",
      " 20  compression_ratio  205 non-null    float64\n",
      " 21  horsepower         205 non-null    object \n",
      " 22  peak_rpm           205 non-null    object \n",
      " 23  city_mpg           205 non-null    int64  \n",
      " 24  highway_mpg        205 non-null    int64  \n",
      " 25  price              205 non-null    float64\n",
      "dtypes: float64(6), int64(5), object(15)\n",
      "memory usage: 41.8+ KB\n"
     ]
    }
   ],
   "source": [
    "auto_price.info()"
   ]
  },
  {
   "cell_type": "code",
   "execution_count": 11,
   "metadata": {},
   "outputs": [],
   "source": [
    "auto_price = auto_price.applymap(str)"
   ]
  },
  {
   "cell_type": "code",
   "execution_count": 12,
   "metadata": {},
   "outputs": [],
   "source": [
    "import re\n",
    "def convert_numeric(text):\n",
    "    if re.match('\\d*.[0-9]', text):\n",
    "        value = float(text)\n",
    "    else:\n",
    "        value = text       \n",
    "    return value\n",
    "    \n",
    "auto_price = auto_price.applymap(convert_numeric)"
   ]
  },
  {
   "cell_type": "code",
   "execution_count": 13,
   "metadata": {
    "scrolled": false
   },
   "outputs": [
    {
     "data": {
      "text/html": [
       "<div>\n",
       "<style scoped>\n",
       "    .dataframe tbody tr th:only-of-type {\n",
       "        vertical-align: middle;\n",
       "    }\n",
       "\n",
       "    .dataframe tbody tr th {\n",
       "        vertical-align: top;\n",
       "    }\n",
       "\n",
       "    .dataframe thead th {\n",
       "        text-align: right;\n",
       "    }\n",
       "</style>\n",
       "<table border=\"1\" class=\"dataframe\">\n",
       "  <thead>\n",
       "    <tr style=\"text-align: right;\">\n",
       "      <th></th>\n",
       "      <th>symboling</th>\n",
       "      <th>normalized_losses</th>\n",
       "      <th>make</th>\n",
       "      <th>fuel_type</th>\n",
       "      <th>aspiration</th>\n",
       "      <th>num_of_doors</th>\n",
       "      <th>body_style</th>\n",
       "      <th>drive_wheels</th>\n",
       "      <th>engine_location</th>\n",
       "      <th>wheel_base</th>\n",
       "      <th>...</th>\n",
       "      <th>engine_size</th>\n",
       "      <th>fuel_system</th>\n",
       "      <th>bore</th>\n",
       "      <th>stroke</th>\n",
       "      <th>compression_ratio</th>\n",
       "      <th>horsepower</th>\n",
       "      <th>peak_rpm</th>\n",
       "      <th>city_mpg</th>\n",
       "      <th>highway_mpg</th>\n",
       "      <th>price</th>\n",
       "    </tr>\n",
       "  </thead>\n",
       "  <tbody>\n",
       "    <tr>\n",
       "      <th>0</th>\n",
       "      <td>3</td>\n",
       "      <td>115.0</td>\n",
       "      <td>alfa-romero</td>\n",
       "      <td>gas</td>\n",
       "      <td>std</td>\n",
       "      <td>two</td>\n",
       "      <td>convertible</td>\n",
       "      <td>rwd</td>\n",
       "      <td>front</td>\n",
       "      <td>88.6</td>\n",
       "      <td>...</td>\n",
       "      <td>130.0</td>\n",
       "      <td>mpfi</td>\n",
       "      <td>3.47</td>\n",
       "      <td>2.68</td>\n",
       "      <td>9.0</td>\n",
       "      <td>111.0</td>\n",
       "      <td>5000.0</td>\n",
       "      <td>21.0</td>\n",
       "      <td>27.0</td>\n",
       "      <td>13495.0</td>\n",
       "    </tr>\n",
       "    <tr>\n",
       "      <th>1</th>\n",
       "      <td>3</td>\n",
       "      <td>115.0</td>\n",
       "      <td>alfa-romero</td>\n",
       "      <td>gas</td>\n",
       "      <td>std</td>\n",
       "      <td>two</td>\n",
       "      <td>convertible</td>\n",
       "      <td>rwd</td>\n",
       "      <td>front</td>\n",
       "      <td>88.6</td>\n",
       "      <td>...</td>\n",
       "      <td>130.0</td>\n",
       "      <td>mpfi</td>\n",
       "      <td>3.47</td>\n",
       "      <td>2.68</td>\n",
       "      <td>9.0</td>\n",
       "      <td>111.0</td>\n",
       "      <td>5000.0</td>\n",
       "      <td>21.0</td>\n",
       "      <td>27.0</td>\n",
       "      <td>16500.0</td>\n",
       "    </tr>\n",
       "    <tr>\n",
       "      <th>2</th>\n",
       "      <td>1</td>\n",
       "      <td>115.0</td>\n",
       "      <td>alfa-romero</td>\n",
       "      <td>gas</td>\n",
       "      <td>std</td>\n",
       "      <td>two</td>\n",
       "      <td>hatchback</td>\n",
       "      <td>rwd</td>\n",
       "      <td>front</td>\n",
       "      <td>94.5</td>\n",
       "      <td>...</td>\n",
       "      <td>152.0</td>\n",
       "      <td>mpfi</td>\n",
       "      <td>2.68</td>\n",
       "      <td>3.47</td>\n",
       "      <td>9.0</td>\n",
       "      <td>154.0</td>\n",
       "      <td>5000.0</td>\n",
       "      <td>19.0</td>\n",
       "      <td>26.0</td>\n",
       "      <td>16500.0</td>\n",
       "    </tr>\n",
       "    <tr>\n",
       "      <th>3</th>\n",
       "      <td>2</td>\n",
       "      <td>164.0</td>\n",
       "      <td>audi</td>\n",
       "      <td>gas</td>\n",
       "      <td>std</td>\n",
       "      <td>four</td>\n",
       "      <td>sedan</td>\n",
       "      <td>fwd</td>\n",
       "      <td>front</td>\n",
       "      <td>99.8</td>\n",
       "      <td>...</td>\n",
       "      <td>109.0</td>\n",
       "      <td>mpfi</td>\n",
       "      <td>3.19</td>\n",
       "      <td>3.40</td>\n",
       "      <td>10.0</td>\n",
       "      <td>102.0</td>\n",
       "      <td>5500.0</td>\n",
       "      <td>24.0</td>\n",
       "      <td>30.0</td>\n",
       "      <td>13950.0</td>\n",
       "    </tr>\n",
       "    <tr>\n",
       "      <th>4</th>\n",
       "      <td>2</td>\n",
       "      <td>164.0</td>\n",
       "      <td>audi</td>\n",
       "      <td>gas</td>\n",
       "      <td>std</td>\n",
       "      <td>four</td>\n",
       "      <td>sedan</td>\n",
       "      <td>4wd</td>\n",
       "      <td>front</td>\n",
       "      <td>99.4</td>\n",
       "      <td>...</td>\n",
       "      <td>136.0</td>\n",
       "      <td>mpfi</td>\n",
       "      <td>3.19</td>\n",
       "      <td>3.40</td>\n",
       "      <td>8.0</td>\n",
       "      <td>115.0</td>\n",
       "      <td>5500.0</td>\n",
       "      <td>18.0</td>\n",
       "      <td>22.0</td>\n",
       "      <td>17450.0</td>\n",
       "    </tr>\n",
       "  </tbody>\n",
       "</table>\n",
       "<p>5 rows × 26 columns</p>\n",
       "</div>"
      ],
      "text/plain": [
       "  symboling  normalized_losses         make fuel_type aspiration num_of_doors  \\\n",
       "0         3              115.0  alfa-romero       gas        std          two   \n",
       "1         3              115.0  alfa-romero       gas        std          two   \n",
       "2         1              115.0  alfa-romero       gas        std          two   \n",
       "3         2              164.0         audi       gas        std         four   \n",
       "4         2              164.0         audi       gas        std         four   \n",
       "\n",
       "    body_style drive_wheels engine_location  wheel_base  ...  engine_size  \\\n",
       "0  convertible          rwd           front        88.6  ...        130.0   \n",
       "1  convertible          rwd           front        88.6  ...        130.0   \n",
       "2    hatchback          rwd           front        94.5  ...        152.0   \n",
       "3        sedan          fwd           front        99.8  ...        109.0   \n",
       "4        sedan          4wd           front        99.4  ...        136.0   \n",
       "\n",
       "   fuel_system  bore  stroke compression_ratio horsepower  peak_rpm city_mpg  \\\n",
       "0         mpfi  3.47    2.68               9.0      111.0    5000.0     21.0   \n",
       "1         mpfi  3.47    2.68               9.0      111.0    5000.0     21.0   \n",
       "2         mpfi  2.68    3.47               9.0      154.0    5000.0     19.0   \n",
       "3         mpfi  3.19    3.40              10.0      102.0    5500.0     24.0   \n",
       "4         mpfi  3.19    3.40               8.0      115.0    5500.0     18.0   \n",
       "\n",
       "   highway_mpg    price  \n",
       "0         27.0  13495.0  \n",
       "1         27.0  16500.0  \n",
       "2         26.0  16500.0  \n",
       "3         30.0  13950.0  \n",
       "4         22.0  17450.0  \n",
       "\n",
       "[5 rows x 26 columns]"
      ]
     },
     "execution_count": 13,
     "metadata": {},
     "output_type": "execute_result"
    }
   ],
   "source": [
    "auto_price.head()"
   ]
  },
  {
   "cell_type": "code",
   "execution_count": 14,
   "metadata": {
    "scrolled": true
   },
   "outputs": [
    {
     "name": "stdout",
     "output_type": "stream",
     "text": [
      "<class 'pandas.core.frame.DataFrame'>\n",
      "RangeIndex: 205 entries, 0 to 204\n",
      "Data columns (total 26 columns):\n",
      " #   Column             Non-Null Count  Dtype  \n",
      "---  ------             --------------  -----  \n",
      " 0   symboling          205 non-null    object \n",
      " 1   normalized_losses  205 non-null    float64\n",
      " 2   make               205 non-null    object \n",
      " 3   fuel_type          205 non-null    object \n",
      " 4   aspiration         205 non-null    object \n",
      " 5   num_of_doors       205 non-null    object \n",
      " 6   body_style         205 non-null    object \n",
      " 7   drive_wheels       205 non-null    object \n",
      " 8   engine_location    205 non-null    object \n",
      " 9   wheel_base         205 non-null    float64\n",
      " 10  length             205 non-null    float64\n",
      " 11  width              205 non-null    float64\n",
      " 12  height             205 non-null    float64\n",
      " 13  curb_weight        205 non-null    float64\n",
      " 14  engine_type        205 non-null    object \n",
      " 15  num_of_cylinders   205 non-null    object \n",
      " 16  engine_size        205 non-null    float64\n",
      " 17  fuel_system        205 non-null    object \n",
      " 18  bore               205 non-null    float64\n",
      " 19  stroke             205 non-null    float64\n",
      " 20  compression_ratio  205 non-null    float64\n",
      " 21  horsepower         205 non-null    float64\n",
      " 22  peak_rpm           205 non-null    float64\n",
      " 23  city_mpg           205 non-null    float64\n",
      " 24  highway_mpg        205 non-null    float64\n",
      " 25  price              205 non-null    float64\n",
      "dtypes: float64(15), object(11)\n",
      "memory usage: 41.8+ KB\n"
     ]
    }
   ],
   "source": [
    "auto_price.info()"
   ]
  },
  {
   "cell_type": "markdown",
   "metadata": {},
   "source": [
    "## Data preprocessing"
   ]
  },
  {
   "cell_type": "code",
   "execution_count": 15,
   "metadata": {},
   "outputs": [
    {
     "data": {
      "text/html": [
       "<div>\n",
       "<style scoped>\n",
       "    .dataframe tbody tr th:only-of-type {\n",
       "        vertical-align: middle;\n",
       "    }\n",
       "\n",
       "    .dataframe tbody tr th {\n",
       "        vertical-align: top;\n",
       "    }\n",
       "\n",
       "    .dataframe thead th {\n",
       "        text-align: right;\n",
       "    }\n",
       "</style>\n",
       "<table border=\"1\" class=\"dataframe\">\n",
       "  <thead>\n",
       "    <tr style=\"text-align: right;\">\n",
       "      <th></th>\n",
       "      <th>symboling</th>\n",
       "      <th>make</th>\n",
       "      <th>fuel_type</th>\n",
       "      <th>aspiration</th>\n",
       "      <th>num_of_doors</th>\n",
       "      <th>body_style</th>\n",
       "      <th>drive_wheels</th>\n",
       "      <th>engine_location</th>\n",
       "      <th>engine_type</th>\n",
       "      <th>num_of_cylinders</th>\n",
       "      <th>fuel_system</th>\n",
       "    </tr>\n",
       "  </thead>\n",
       "  <tbody>\n",
       "    <tr>\n",
       "      <th>0</th>\n",
       "      <td>3</td>\n",
       "      <td>alfa-romero</td>\n",
       "      <td>gas</td>\n",
       "      <td>std</td>\n",
       "      <td>two</td>\n",
       "      <td>convertible</td>\n",
       "      <td>rwd</td>\n",
       "      <td>front</td>\n",
       "      <td>dohc</td>\n",
       "      <td>four</td>\n",
       "      <td>mpfi</td>\n",
       "    </tr>\n",
       "    <tr>\n",
       "      <th>1</th>\n",
       "      <td>3</td>\n",
       "      <td>alfa-romero</td>\n",
       "      <td>gas</td>\n",
       "      <td>std</td>\n",
       "      <td>two</td>\n",
       "      <td>convertible</td>\n",
       "      <td>rwd</td>\n",
       "      <td>front</td>\n",
       "      <td>dohc</td>\n",
       "      <td>four</td>\n",
       "      <td>mpfi</td>\n",
       "    </tr>\n",
       "    <tr>\n",
       "      <th>2</th>\n",
       "      <td>1</td>\n",
       "      <td>alfa-romero</td>\n",
       "      <td>gas</td>\n",
       "      <td>std</td>\n",
       "      <td>two</td>\n",
       "      <td>hatchback</td>\n",
       "      <td>rwd</td>\n",
       "      <td>front</td>\n",
       "      <td>ohcv</td>\n",
       "      <td>six</td>\n",
       "      <td>mpfi</td>\n",
       "    </tr>\n",
       "    <tr>\n",
       "      <th>3</th>\n",
       "      <td>2</td>\n",
       "      <td>audi</td>\n",
       "      <td>gas</td>\n",
       "      <td>std</td>\n",
       "      <td>four</td>\n",
       "      <td>sedan</td>\n",
       "      <td>fwd</td>\n",
       "      <td>front</td>\n",
       "      <td>ohc</td>\n",
       "      <td>four</td>\n",
       "      <td>mpfi</td>\n",
       "    </tr>\n",
       "    <tr>\n",
       "      <th>4</th>\n",
       "      <td>2</td>\n",
       "      <td>audi</td>\n",
       "      <td>gas</td>\n",
       "      <td>std</td>\n",
       "      <td>four</td>\n",
       "      <td>sedan</td>\n",
       "      <td>4wd</td>\n",
       "      <td>front</td>\n",
       "      <td>ohc</td>\n",
       "      <td>five</td>\n",
       "      <td>mpfi</td>\n",
       "    </tr>\n",
       "  </tbody>\n",
       "</table>\n",
       "</div>"
      ],
      "text/plain": [
       "  symboling         make fuel_type aspiration num_of_doors   body_style  \\\n",
       "0         3  alfa-romero       gas        std          two  convertible   \n",
       "1         3  alfa-romero       gas        std          two  convertible   \n",
       "2         1  alfa-romero       gas        std          two    hatchback   \n",
       "3         2         audi       gas        std         four        sedan   \n",
       "4         2         audi       gas        std         four        sedan   \n",
       "\n",
       "  drive_wheels engine_location engine_type num_of_cylinders fuel_system  \n",
       "0          rwd           front        dohc             four        mpfi  \n",
       "1          rwd           front        dohc             four        mpfi  \n",
       "2          rwd           front        ohcv              six        mpfi  \n",
       "3          fwd           front         ohc             four        mpfi  \n",
       "4          4wd           front         ohc             five        mpfi  "
      ]
     },
     "execution_count": 15,
     "metadata": {},
     "output_type": "execute_result"
    }
   ],
   "source": [
    "auto_price.select_dtypes(include=['object']).head()"
   ]
  },
  {
   "cell_type": "code",
   "execution_count": 16,
   "metadata": {},
   "outputs": [
    {
     "name": "stdout",
     "output_type": "stream",
     "text": [
      "four    116\n",
      "two      89\n",
      "Name: num_of_doors, dtype: int64\n",
      "--------------\n",
      "\n",
      "four      159\n",
      "six        24\n",
      "five       11\n",
      "eight       5\n",
      "two         4\n",
      "twelve      1\n",
      "three       1\n",
      "Name: num_of_cylinders, dtype: int64\n"
     ]
    }
   ],
   "source": [
    "print(auto_price['num_of_doors'].value_counts())\n",
    "print('--------------\\n')\n",
    "print(auto_price['num_of_cylinders'].value_counts())"
   ]
  },
  {
   "cell_type": "code",
   "execution_count": 17,
   "metadata": {},
   "outputs": [],
   "source": [
    "updated_nums= {'num_of_doors': {'two': 2, 'four': 4},\n",
    "              'num_of_cylinders': {'two':2, 'three':3, 'four':4, 'five':5, 'six':6, 'eight':8, 'twelve':12}}"
   ]
  },
  {
   "cell_type": "code",
   "execution_count": 18,
   "metadata": {},
   "outputs": [],
   "source": [
    "auto_price.replace(updated_nums, inplace = True)"
   ]
  },
  {
   "cell_type": "code",
   "execution_count": 19,
   "metadata": {},
   "outputs": [],
   "source": [
    "auto_price['symboling'] = auto_price['symboling'].astype(int)"
   ]
  },
  {
   "cell_type": "code",
   "execution_count": 20,
   "metadata": {},
   "outputs": [],
   "source": [
    "# Categorical to binary numeric\n",
    "from sklearn.preprocessing import LabelEncoder\n",
    "lb = LabelEncoder()\n",
    "\n",
    "columns = auto_price.select_dtypes(include=['object']).columns\n",
    "auto_price[columns] = auto_price.select_dtypes(include=['object']).apply(lb.fit_transform)"
   ]
  },
  {
   "cell_type": "code",
   "execution_count": 21,
   "metadata": {
    "scrolled": true
   },
   "outputs": [
    {
     "name": "stdout",
     "output_type": "stream",
     "text": [
      "<class 'pandas.core.frame.DataFrame'>\n",
      "RangeIndex: 205 entries, 0 to 204\n",
      "Data columns (total 26 columns):\n",
      " #   Column             Non-Null Count  Dtype  \n",
      "---  ------             --------------  -----  \n",
      " 0   symboling          205 non-null    int32  \n",
      " 1   normalized_losses  205 non-null    float64\n",
      " 2   make               205 non-null    int32  \n",
      " 3   fuel_type          205 non-null    int32  \n",
      " 4   aspiration         205 non-null    int32  \n",
      " 5   num_of_doors       205 non-null    int64  \n",
      " 6   body_style         205 non-null    int32  \n",
      " 7   drive_wheels       205 non-null    int32  \n",
      " 8   engine_location    205 non-null    int32  \n",
      " 9   wheel_base         205 non-null    float64\n",
      " 10  length             205 non-null    float64\n",
      " 11  width              205 non-null    float64\n",
      " 12  height             205 non-null    float64\n",
      " 13  curb_weight        205 non-null    float64\n",
      " 14  engine_type        205 non-null    int32  \n",
      " 15  num_of_cylinders   205 non-null    int64  \n",
      " 16  engine_size        205 non-null    float64\n",
      " 17  fuel_system        205 non-null    int32  \n",
      " 18  bore               205 non-null    float64\n",
      " 19  stroke             205 non-null    float64\n",
      " 20  compression_ratio  205 non-null    float64\n",
      " 21  horsepower         205 non-null    float64\n",
      " 22  peak_rpm           205 non-null    float64\n",
      " 23  city_mpg           205 non-null    float64\n",
      " 24  highway_mpg        205 non-null    float64\n",
      " 25  price              205 non-null    float64\n",
      "dtypes: float64(15), int32(9), int64(2)\n",
      "memory usage: 34.6 KB\n"
     ]
    }
   ],
   "source": [
    "auto_price.info()"
   ]
  },
  {
   "cell_type": "markdown",
   "metadata": {},
   "source": [
    "### Detecting and Removing Outliers"
   ]
  },
  {
   "cell_type": "code",
   "execution_count": 22,
   "metadata": {},
   "outputs": [],
   "source": [
    "corr_matrix = auto_price.corr()"
   ]
  },
  {
   "cell_type": "code",
   "execution_count": 23,
   "metadata": {
    "scrolled": true
   },
   "outputs": [
    {
     "data": {
      "text/plain": [
       "price                1.000000\n",
       "engine_size          0.861752\n",
       "curb_weight          0.820825\n",
       "horsepower           0.758769\n",
       "width                0.728699\n",
       "num_of_cylinders     0.687770\n",
       "length               0.682986\n",
       "wheel_base           0.583168\n",
       "drive_wheels         0.576866\n",
       "bore                 0.532307\n",
       "fuel_system          0.516533\n",
       "engine_location      0.331013\n",
       "aspiration           0.177285\n",
       "height               0.134388\n",
       "normalized_losses    0.094337\n",
       "stroke               0.082034\n",
       "engine_type          0.071535\n",
       "compression_ratio    0.070990\n",
       "num_of_doors         0.041945\n",
       "body_style          -0.072677\n",
       "symboling           -0.082201\n",
       "peak_rpm            -0.101546\n",
       "fuel_type           -0.110207\n",
       "make                -0.161471\n",
       "city_mpg            -0.667449\n",
       "highway_mpg         -0.690526\n",
       "Name: price, dtype: float64"
      ]
     },
     "execution_count": 23,
     "metadata": {},
     "output_type": "execute_result"
    }
   ],
   "source": [
    "corr_matrix['price'].sort_values(ascending=False)"
   ]
  },
  {
   "cell_type": "code",
   "execution_count": 24,
   "metadata": {},
   "outputs": [
    {
     "data": {
      "text/plain": [
       "array([[<matplotlib.axes._subplots.AxesSubplot object at 0x00000237325A9080>,\n",
       "        <matplotlib.axes._subplots.AxesSubplot object at 0x00000237348110F0>,\n",
       "        <matplotlib.axes._subplots.AxesSubplot object at 0x0000023734844630>,\n",
       "        <matplotlib.axes._subplots.AxesSubplot object at 0x0000023734873BE0>,\n",
       "        <matplotlib.axes._subplots.AxesSubplot object at 0x00000237348B21D0>,\n",
       "        <matplotlib.axes._subplots.AxesSubplot object at 0x00000237348E0780>],\n",
       "       [<matplotlib.axes._subplots.AxesSubplot object at 0x0000023734913D30>,\n",
       "        <matplotlib.axes._subplots.AxesSubplot object at 0x0000023734952358>,\n",
       "        <matplotlib.axes._subplots.AxesSubplot object at 0x0000023734952390>,\n",
       "        <matplotlib.axes._subplots.AxesSubplot object at 0x00000237349B1E80>,\n",
       "        <matplotlib.axes._subplots.AxesSubplot object at 0x00000237349EF470>,\n",
       "        <matplotlib.axes._subplots.AxesSubplot object at 0x0000023734A1DA20>],\n",
       "       [<matplotlib.axes._subplots.AxesSubplot object at 0x0000023734A51FD0>,\n",
       "        <matplotlib.axes._subplots.AxesSubplot object at 0x0000023734A8D5C0>,\n",
       "        <matplotlib.axes._subplots.AxesSubplot object at 0x0000023734ABEB70>,\n",
       "        <matplotlib.axes._subplots.AxesSubplot object at 0x0000023734AFA160>,\n",
       "        <matplotlib.axes._subplots.AxesSubplot object at 0x0000023734B2C710>,\n",
       "        <matplotlib.axes._subplots.AxesSubplot object at 0x0000023734B5DCC0>],\n",
       "       [<matplotlib.axes._subplots.AxesSubplot object at 0x0000023734B9A2B0>,\n",
       "        <matplotlib.axes._subplots.AxesSubplot object at 0x0000023734BCA860>,\n",
       "        <matplotlib.axes._subplots.AxesSubplot object at 0x0000023734BFFE10>,\n",
       "        <matplotlib.axes._subplots.AxesSubplot object at 0x0000023734C3A400>,\n",
       "        <matplotlib.axes._subplots.AxesSubplot object at 0x0000023734C699B0>,\n",
       "        <matplotlib.axes._subplots.AxesSubplot object at 0x0000023734C9BF60>],\n",
       "       [<matplotlib.axes._subplots.AxesSubplot object at 0x0000023734CD8550>,\n",
       "        <matplotlib.axes._subplots.AxesSubplot object at 0x0000023734D09B00>,\n",
       "        <matplotlib.axes._subplots.AxesSubplot object at 0x0000023734D470F0>,\n",
       "        <matplotlib.axes._subplots.AxesSubplot object at 0x0000023734D786A0>,\n",
       "        <matplotlib.axes._subplots.AxesSubplot object at 0x0000023734DA9C50>,\n",
       "        <matplotlib.axes._subplots.AxesSubplot object at 0x0000023734DE5240>],\n",
       "       [<matplotlib.axes._subplots.AxesSubplot object at 0x0000023734E187F0>,\n",
       "        <matplotlib.axes._subplots.AxesSubplot object at 0x0000023734E49DA0>,\n",
       "        <matplotlib.axes._subplots.AxesSubplot object at 0x0000023734E84390>,\n",
       "        <matplotlib.axes._subplots.AxesSubplot object at 0x0000023734EB5940>,\n",
       "        <matplotlib.axes._subplots.AxesSubplot object at 0x0000023734EE9EF0>,\n",
       "        <matplotlib.axes._subplots.AxesSubplot object at 0x0000023734F274E0>]],\n",
       "      dtype=object)"
      ]
     },
     "execution_count": 24,
     "metadata": {},
     "output_type": "execute_result"
    },
    {
     "data": {
      "image/png": "[encoded data removed]",
      "text/plain": [
       "<Figure size 2160x1440 with 36 Axes>"
      ]
     },
     "metadata": {
      "needs_background": "light"
     },
     "output_type": "display_data"
    }
   ],
   "source": [
    "from pandas.plotting import scatter_matrix\n",
    "\n",
    "attributes = ['price','engine_size','curb_weight','horsepower','width','length']\n",
    "\n",
    "scatter_matrix(auto_price[attributes], figsize=(30,20))"
   ]
  },
  {
   "cell_type": "code",
   "execution_count": 25,
   "metadata": {},
   "outputs": [
    {
     "data": {
      "text/plain": [
       "array([[<matplotlib.axes._subplots.AxesSubplot object at 0x000002373605FC50>,\n",
       "        <matplotlib.axes._subplots.AxesSubplot object at 0x00000237360BF8D0>,\n",
       "        <matplotlib.axes._subplots.AxesSubplot object at 0x0000023735429E80>],\n",
       "       [<matplotlib.axes._subplots.AxesSubplot object at 0x0000023735462470>,\n",
       "        <matplotlib.axes._subplots.AxesSubplot object at 0x0000023735493A20>,\n",
       "        <matplotlib.axes._subplots.AxesSubplot object at 0x00000237354C6FD0>],\n",
       "       [<matplotlib.axes._subplots.AxesSubplot object at 0x00000237355035C0>,\n",
       "        <matplotlib.axes._subplots.AxesSubplot object at 0x0000023735536BA8>,\n",
       "        <matplotlib.axes._subplots.AxesSubplot object at 0x0000023735536BE0>]],\n",
       "      dtype=object)"
      ]
     },
     "execution_count": 25,
     "metadata": {},
     "output_type": "execute_result"
    },
    {
     "data": {
      "image/png": "[encoded data removed]",
      "text/plain": [
       "<Figure size 1080x720 with 9 Axes>"
      ]
     },
     "metadata": {
      "needs_background": "light"
     },
     "output_type": "display_data"
    }
   ],
   "source": [
    "scatter_matrix(auto_price[['price','highway_mpg','city_mpg']], figsize=(15,10))"
   ]
  },
  {
   "cell_type": "code",
   "execution_count": 26,
   "metadata": {
    "scrolled": false
   },
   "outputs": [
    {
     "data": {
      "text/plain": [
       "symboling               AxesSubplot(0.125,0.772143;0.110714x0.107857)\n",
       "normalized_losses    AxesSubplot(0.257857,0.772143;0.110714x0.107857)\n",
       "make                 AxesSubplot(0.390714,0.772143;0.110714x0.107857)\n",
       "fuel_type            AxesSubplot(0.523571,0.772143;0.110714x0.107857)\n",
       "aspiration           AxesSubplot(0.656429,0.772143;0.110714x0.107857)\n",
       "num_of_doors         AxesSubplot(0.789286,0.772143;0.110714x0.107857)\n",
       "body_style              AxesSubplot(0.125,0.642714;0.110714x0.107857)\n",
       "drive_wheels         AxesSubplot(0.257857,0.642714;0.110714x0.107857)\n",
       "engine_location      AxesSubplot(0.390714,0.642714;0.110714x0.107857)\n",
       "wheel_base           AxesSubplot(0.523571,0.642714;0.110714x0.107857)\n",
       "length               AxesSubplot(0.656429,0.642714;0.110714x0.107857)\n",
       "width                AxesSubplot(0.789286,0.642714;0.110714x0.107857)\n",
       "height                  AxesSubplot(0.125,0.513286;0.110714x0.107857)\n",
       "curb_weight          AxesSubplot(0.257857,0.513286;0.110714x0.107857)\n",
       "engine_type          AxesSubplot(0.390714,0.513286;0.110714x0.107857)\n",
       "num_of_cylinders     AxesSubplot(0.523571,0.513286;0.110714x0.107857)\n",
       "engine_size          AxesSubplot(0.656429,0.513286;0.110714x0.107857)\n",
       "fuel_system          AxesSubplot(0.789286,0.513286;0.110714x0.107857)\n",
       "bore                    AxesSubplot(0.125,0.383857;0.110714x0.107857)\n",
       "stroke               AxesSubplot(0.257857,0.383857;0.110714x0.107857)\n",
       "compression_ratio    AxesSubplot(0.390714,0.383857;0.110714x0.107857)\n",
       "horsepower           AxesSubplot(0.523571,0.383857;0.110714x0.107857)\n",
       "peak_rpm             AxesSubplot(0.656429,0.383857;0.110714x0.107857)\n",
       "city_mpg             AxesSubplot(0.789286,0.383857;0.110714x0.107857)\n",
       "highway_mpg             AxesSubplot(0.125,0.254429;0.110714x0.107857)\n",
       "price                AxesSubplot(0.257857,0.254429;0.110714x0.107857)\n",
       "dtype: object"
      ]
     },
     "execution_count": 26,
     "metadata": {},
     "output_type": "execute_result"
    },
    {
     "data": {
      "image/png": "[encoded data removed]",
      "text/plain": [
       "<Figure size 1440x1440 with 36 Axes>"
      ]
     },
     "metadata": {
      "needs_background": "light"
     },
     "output_type": "display_data"
    }
   ],
   "source": [
    "auto_price.plot(kind='box', subplots=True, layout=(6,6), figsize=(20, 20), color='deeppink')"
   ]
  },
  {
   "cell_type": "code",
   "execution_count": 27,
   "metadata": {},
   "outputs": [],
   "source": [
    "auto_price['width'].replace(auto_price['width'].where(auto_price['width']>71), auto_price['width'].median(), inplace=True)\n",
    "\n",
    "auto_price['horsepower'].replace(auto_price['horsepower'].where(auto_price['horsepower']>200), auto_price['horsepower'].median(), inplace=True)\n",
    "\n",
    "auto_price['city_mpg'].replace(auto_price['city_mpg'].where(auto_price['city_mpg']>45), auto_price['city_mpg'].median(), inplace=True)\n",
    "\n",
    "auto_price['highway_mpg'].replace(auto_price['highway_mpg'].where(auto_price['highway_mpg']>45), auto_price['highway_mpg'].median(), inplace=True)\n",
    "\n",
    "auto_price['peak_rpm'].replace(auto_price['peak_rpm'].where(auto_price['peak_rpm']>6000), auto_price['peak_rpm'].median(), inplace=True)\n",
    "\n",
    "auto_price['engine_size'].replace(auto_price['engine_size'].where(auto_price['engine_size']>200), auto_price['engine_size'].median(), inplace=True)"
   ]
  },
  {
   "cell_type": "markdown",
   "metadata": {},
   "source": [
    "## Validation and Model Selection"
   ]
  },
  {
   "cell_type": "markdown",
   "metadata": {},
   "source": [
    "### Defining Features and Target"
   ]
  },
  {
   "cell_type": "code",
   "execution_count": 28,
   "metadata": {},
   "outputs": [
    {
     "data": {
      "text/plain": [
       "array([[3.000e+00, 1.150e+02, 0.000e+00, 1.000e+00, 0.000e+00, 2.000e+00,\n",
       "        0.000e+00, 2.000e+00, 0.000e+00, 8.860e+01, 1.688e+02, 6.410e+01,\n",
       "        4.880e+01, 2.548e+03, 0.000e+00, 4.000e+00, 1.300e+02, 5.000e+00,\n",
       "        3.470e+00, 2.680e+00, 9.000e+00, 1.110e+02, 5.000e+03, 2.100e+01,\n",
       "        2.700e+01],\n",
       "       [3.000e+00, 1.150e+02, 0.000e+00, 1.000e+00, 0.000e+00, 2.000e+00,\n",
       "        0.000e+00, 2.000e+00, 0.000e+00, 8.860e+01, 1.688e+02, 6.410e+01,\n",
       "        4.880e+01, 2.548e+03, 0.000e+00, 4.000e+00, 1.300e+02, 5.000e+00,\n",
       "        3.470e+00, 2.680e+00, 9.000e+00, 1.110e+02, 5.000e+03, 2.100e+01,\n",
       "        2.700e+01],\n",
       "       [1.000e+00, 1.150e+02, 0.000e+00, 1.000e+00, 0.000e+00, 2.000e+00,\n",
       "        2.000e+00, 2.000e+00, 0.000e+00, 9.450e+01, 1.712e+02, 6.550e+01,\n",
       "        5.240e+01, 2.823e+03, 5.000e+00, 6.000e+00, 1.520e+02, 5.000e+00,\n",
       "        2.680e+00, 3.470e+00, 9.000e+00, 1.540e+02, 5.000e+03, 1.900e+01,\n",
       "        2.600e+01],\n",
       "       [2.000e+00, 1.640e+02, 1.000e+00, 1.000e+00, 0.000e+00, 4.000e+00,\n",
       "        3.000e+00, 1.000e+00, 0.000e+00, 9.980e+01, 1.766e+02, 6.620e+01,\n",
       "        5.430e+01, 2.337e+03, 3.000e+00, 4.000e+00, 1.090e+02, 5.000e+00,\n",
       "        3.190e+00, 3.400e+00, 1.000e+01, 1.020e+02, 5.500e+03, 2.400e+01,\n",
       "        3.000e+01],\n",
       "       [2.000e+00, 1.640e+02, 1.000e+00, 1.000e+00, 0.000e+00, 4.000e+00,\n",
       "        3.000e+00, 0.000e+00, 0.000e+00, 9.940e+01, 1.766e+02, 6.640e+01,\n",
       "        5.430e+01, 2.824e+03, 3.000e+00, 5.000e+00, 1.360e+02, 5.000e+00,\n",
       "        3.190e+00, 3.400e+00, 8.000e+00, 1.150e+02, 5.500e+03, 1.800e+01,\n",
       "        2.200e+01]])"
      ]
     },
     "execution_count": 28,
     "metadata": {},
     "output_type": "execute_result"
    }
   ],
   "source": [
    "# Define features X\n",
    "X = np.asarray(auto_price.iloc[:,:-1])\n",
    "X[0:5]"
   ]
  },
  {
   "cell_type": "code",
   "execution_count": 29,
   "metadata": {},
   "outputs": [
    {
     "data": {
      "text/plain": [
       "array([13495., 16500., 16500., 13950., 17450.])"
      ]
     },
     "execution_count": 29,
     "metadata": {},
     "output_type": "execute_result"
    }
   ],
   "source": [
    "# Define target y\n",
    "y = np.asarray(auto_price['price'])\n",
    "y[0:5]"
   ]
  },
  {
   "cell_type": "markdown",
   "metadata": {},
   "source": [
    "### Standardizing the Data"
   ]
  },
  {
   "cell_type": "code",
   "execution_count": 30,
   "metadata": {},
   "outputs": [
    {
     "data": {
      "text/plain": [
       "array([[ 1.74347043, -0.17650339, -1.94825569,  0.32879797, -0.46929532,\n",
       "        -1.14165266, -3.05097525,  1.21333041, -0.12186667, -1.6907718 ,\n",
       "        -0.42652147, -0.87334346, -2.0204173 , -0.01456628, -2.86510549,\n",
       "        -0.35288699,  0.36397162,  0.8695675 ,  0.52048915, -1.84134525,\n",
       "        -0.28834891,  0.30781297, -0.24826012, -0.65099994, -0.52375686],\n",
       "       [ 1.74347043, -0.17650339, -1.94825569,  0.32879797, -0.46929532,\n",
       "        -1.14165266, -3.05097525,  1.21333041, -0.12186667, -1.6907718 ,\n",
       "        -0.42652147, -0.87334346, -2.0204173 , -0.01456628, -2.86510549,\n",
       "        -0.35288699,  0.36397162,  0.8695675 ,  0.52048915, -1.84134525,\n",
       "        -0.28834891,  0.30781297, -0.24826012, -0.65099994, -0.52375686],\n",
       "       [ 0.133509  , -0.17650339, -1.94825569,  0.32879797, -0.46929532,\n",
       "        -1.14165266, -0.71720687,  1.21333041, -0.12186667, -0.70859588,\n",
       "        -0.23151305, -0.09250367, -0.54352748,  0.51488192,  1.88688986,\n",
       "         1.50203181,  1.15850793,  0.8695675 , -2.40331309,  0.68368323,\n",
       "        -0.28834891,  1.60174301, -0.24826012, -0.97769514, -0.69257785],\n",
       "       [ 0.93848971,  1.36790124, -1.78849872,  0.32879797, -0.46929532,\n",
       "         0.87592316,  0.44967732, -0.58908071, -0.12186667,  0.17369775,\n",
       "         0.2072559 ,  0.29791623,  0.23594216, -0.42079745, -0.01390828,\n",
       "        -0.35288699, -0.3944494 ,  0.8695675 , -0.51579518,  0.45994653,\n",
       "        -0.03597283,  0.0369904 ,  0.85571657, -0.16095715, -0.01729386],\n",
       "       [ 0.93848971,  1.36790124, -1.78849872,  0.32879797, -0.46929532,\n",
       "         0.87592316,  0.44967732, -2.39149182, -0.12186667,  0.10710955,\n",
       "         0.2072559 ,  0.40946477,  0.23594216,  0.51680718, -0.01390828,\n",
       "         0.57457241,  0.58066334,  0.8695675 , -0.51579518,  0.45994653,\n",
       "        -0.54072499,  0.42817855,  0.85571657, -1.14104274, -1.36786185]])"
      ]
     },
     "execution_count": 30,
     "metadata": {},
     "output_type": "execute_result"
    }
   ],
   "source": [
    "# Standardize the dataset\n",
    "from sklearn import preprocessing\n",
    "X = preprocessing.StandardScaler().fit(X).transform(X)\n",
    "X[0:5]"
   ]
  },
  {
   "cell_type": "markdown",
   "metadata": {},
   "source": [
    "### Train/Test Dataset\n",
    "Let's split dataset into 80% train and 20% test set."
   ]
  },
  {
   "cell_type": "code",
   "execution_count": 31,
   "metadata": {},
   "outputs": [
    {
     "name": "stdout",
     "output_type": "stream",
     "text": [
      "Train set: (164, 25) (164,)\n",
      "Test set: (41, 25) (41,)\n"
     ]
    }
   ],
   "source": [
    "# Split the dataset into train and test sets\n",
    "from sklearn.model_selection import train_test_split\n",
    "X_train, X_test, y_train, y_test = train_test_split( X, y, test_size=0.2, random_state=0)\n",
    "print ('Train set:', X_train.shape,  y_train.shape)\n",
    "print ('Test set:', X_test.shape,  y_test.shape)"
   ]
  },
  {
   "cell_type": "markdown",
   "metadata": {},
   "source": [
    "### Linear Regression"
   ]
  },
  {
   "cell_type": "code",
   "execution_count": 32,
   "metadata": {},
   "outputs": [
    {
     "data": {
      "text/plain": [
       "LinearRegression(copy_X=True, fit_intercept=True, n_jobs=None, normalize=False)"
      ]
     },
     "execution_count": 32,
     "metadata": {},
     "output_type": "execute_result"
    }
   ],
   "source": [
    "from sklearn.linear_model import LinearRegression\n",
    "lin_reg = LinearRegression()\n",
    "lin_reg.fit(X_train,y_train)"
   ]
  },
  {
   "cell_type": "markdown",
   "metadata": {},
   "source": [
    "#### Validation on training set"
   ]
  },
  {
   "cell_type": "code",
   "execution_count": 33,
   "metadata": {},
   "outputs": [
    {
     "data": {
      "text/plain": [
       "2072.601131852512"
      ]
     },
     "execution_count": 33,
     "metadata": {},
     "output_type": "execute_result"
    }
   ],
   "source": [
    "from sklearn.metrics import mean_squared_error\n",
    "y_pred = lin_reg.predict(X_train)\n",
    "lin_mse = mean_squared_error(y_train, y_pred)\n",
    "lin_rmse = np.sqrt(lin_mse)\n",
    "lin_rmse"
   ]
  },
  {
   "cell_type": "markdown",
   "metadata": {},
   "source": [
    "#### Cross-validation"
   ]
  },
  {
   "cell_type": "code",
   "execution_count": 34,
   "metadata": {},
   "outputs": [],
   "source": [
    "from sklearn.model_selection import cross_val_score\n",
    "lin_scores = cross_val_score(lin_reg, X, y, scoring='neg_mean_squared_error', cv = 10)\n",
    "lin_rmse_scores = np.sqrt(-lin_scores)"
   ]
  },
  {
   "cell_type": "code",
   "execution_count": 35,
   "metadata": {},
   "outputs": [
    {
     "name": "stdout",
     "output_type": "stream",
     "text": [
      "Scores: [5010.34166426 1908.81713316 4103.07454453 4784.37403183 3106.02930983\n",
      " 5858.65304514 9743.86171663 2025.62695402 3429.16376283 4056.85799651]\n",
      "Mean: 4402.680015874037\n",
      "Standart deviation: 2141.755098413893\n"
     ]
    }
   ],
   "source": [
    "def display_scores(scores):\n",
    "    print('Scores:', scores)\n",
    "    print('Mean:', scores.mean())\n",
    "    print('Standart deviation:', scores.std())\n",
    "\n",
    "display_scores(lin_rmse_scores)"
   ]
  },
  {
   "cell_type": "markdown",
   "metadata": {},
   "source": [
    "### Decision Tree"
   ]
  },
  {
   "cell_type": "code",
   "execution_count": 185,
   "metadata": {},
   "outputs": [
    {
     "data": {
      "text/plain": [
       "DecisionTreeRegressor(ccp_alpha=0.0, criterion='mse', max_depth=None,\n",
       "                      max_features=None, max_leaf_nodes=None,\n",
       "                      min_impurity_decrease=0.0, min_impurity_split=None,\n",
       "                      min_samples_leaf=1, min_samples_split=2,\n",
       "                      min_weight_fraction_leaf=0.0, presort='deprecated',\n",
       "                      random_state=None, splitter='best')"
      ]
     },
     "execution_count": 185,
     "metadata": {},
     "output_type": "execute_result"
    }
   ],
   "source": [
    "from sklearn.tree import DecisionTreeRegressor\n",
    "tree_reg = DecisionTreeRegressor()\n",
    "tree_reg.fit(X_train,y_train)"
   ]
  },
  {
   "cell_type": "markdown",
   "metadata": {},
   "source": [
    "#### Validation on training set"
   ]
  },
  {
   "cell_type": "code",
   "execution_count": 186,
   "metadata": {},
   "outputs": [
    {
     "data": {
      "text/plain": [
       "242.8766499134298"
      ]
     },
     "execution_count": 186,
     "metadata": {},
     "output_type": "execute_result"
    }
   ],
   "source": [
    "y_pred = tree_reg.predict(X_train)\n",
    "tree_mse = mean_squared_error(y_train,y_pred)\n",
    "tree_rmse = np.sqrt(tree_mse)\n",
    "tree_rmse"
   ]
  },
  {
   "cell_type": "markdown",
   "metadata": {},
   "source": [
    "#### Cross-validation"
   ]
  },
  {
   "cell_type": "code",
   "execution_count": 38,
   "metadata": {},
   "outputs": [
    {
     "name": "stdout",
     "output_type": "stream",
     "text": [
      "Scores: [8161.88176225 2589.53817357 3225.46121652 5395.98282235  886.37020644\n",
      " 3031.32252491 9113.25541447 2239.69070688 3758.94833697 5600.35693505]\n",
      "Mean: 4400.280809940919\n",
      "Standart deviation: 2505.063631389883\n"
     ]
    }
   ],
   "source": [
    "tree_scores = cross_val_score(tree_reg, X, y, scoring='neg_mean_squared_error', cv = 10)\n",
    "tree_rmse_scores = np.sqrt(-tree_scores)\n",
    "display_scores(tree_rmse_scores)"
   ]
  },
  {
   "cell_type": "markdown",
   "metadata": {},
   "source": [
    "### Random Forest"
   ]
  },
  {
   "cell_type": "code",
   "execution_count": 39,
   "metadata": {},
   "outputs": [
    {
     "data": {
      "text/plain": [
       "RandomForestRegressor(bootstrap=True, ccp_alpha=0.0, criterion='mse',\n",
       "                      max_depth=None, max_features='auto', max_leaf_nodes=None,\n",
       "                      max_samples=None, min_impurity_decrease=0.0,\n",
       "                      min_impurity_split=None, min_samples_leaf=1,\n",
       "                      min_samples_split=2, min_weight_fraction_leaf=0.0,\n",
       "                      n_estimators=100, n_jobs=None, oob_score=False,\n",
       "                      random_state=None, verbose=0, warm_start=False)"
      ]
     },
     "execution_count": 39,
     "metadata": {},
     "output_type": "execute_result"
    }
   ],
   "source": [
    "from sklearn.ensemble import RandomForestRegressor\n",
    "forest_reg = RandomForestRegressor()\n",
    "forest_reg.fit(X_train,y_train)"
   ]
  },
  {
   "cell_type": "markdown",
   "metadata": {},
   "source": [
    "#### Validation on training set"
   ]
  },
  {
   "cell_type": "code",
   "execution_count": 40,
   "metadata": {},
   "outputs": [
    {
     "data": {
      "text/plain": [
       "871.5515125040416"
      ]
     },
     "execution_count": 40,
     "metadata": {},
     "output_type": "execute_result"
    }
   ],
   "source": [
    "y_pred = forest_reg.predict(X_train)\n",
    "forest_mse = mean_squared_error(y_train, y_pred)\n",
    "forest_rmse = np.sqrt(forest_mse)\n",
    "forest_rmse"
   ]
  },
  {
   "cell_type": "markdown",
   "metadata": {},
   "source": [
    "#### Cross-validation"
   ]
  },
  {
   "cell_type": "code",
   "execution_count": 41,
   "metadata": {},
   "outputs": [
    {
     "name": "stdout",
     "output_type": "stream",
     "text": [
      "Scores: [6194.49809593 1111.88799876 2727.41696888 5449.05297643 2760.81261951\n",
      " 4444.06059165 8221.09255463 1841.58925047 2234.1489686  2622.00600839]\n",
      "Mean: 3760.6566033248578\n",
      "Standart deviation: 2133.7669532177015\n"
     ]
    }
   ],
   "source": [
    "forest_scores = cross_val_score(forest_reg, X, y, scoring='neg_mean_squared_error', cv=10)\n",
    "forest_rmse_scores = np.sqrt(-forest_scores)\n",
    "display_scores(forest_rmse_scores)"
   ]
  },
  {
   "cell_type": "code",
   "execution_count": 42,
   "metadata": {},
   "outputs": [
    {
     "data": {
      "text/plain": [
       "<matplotlib.axes._subplots.AxesSubplot at 0x237383185c0>"
      ]
     },
     "execution_count": 42,
     "metadata": {},
     "output_type": "execute_result"
    },
    {
     "data": {
      "image/png": "[encoded data removed]",
      "text/plain": [
       "<Figure size 432x288 with 1 Axes>"
      ]
     },
     "metadata": {
      "needs_background": "light"
     },
     "output_type": "display_data"
    }
   ],
   "source": [
    "import seaborn as sns\n",
    "ax1=sns.distplot(y_train, hist=False, color='r',label='actual')\n",
    "sns.distplot(y_pred, hist=False,color='b',label='pred',ax=ax1)"
   ]
  },
  {
   "cell_type": "code",
   "execution_count": 43,
   "metadata": {},
   "outputs": [
    {
     "data": {
      "text/plain": [
       "<matplotlib.axes._subplots.AxesSubplot at 0x237383615f8>"
      ]
     },
     "execution_count": 43,
     "metadata": {},
     "output_type": "execute_result"
    },
    {
     "data": {
      "image/png": "[encoded data removed]",
      "text/plain": [
       "<Figure size 432x288 with 1 Axes>"
      ]
     },
     "metadata": {
      "needs_background": "light"
     },
     "output_type": "display_data"
    }
   ],
   "source": [
    "import seaborn as sns\n",
    "ax1=sns.distplot(y_test, hist=False, color='r',label='actual')\n",
    "sns.distplot(y_pred, hist=False,color='b',label='pred',ax=ax1)"
   ]
  },
  {
   "cell_type": "markdown",
   "metadata": {},
   "source": [
    "### SGD"
   ]
  },
  {
   "cell_type": "code",
   "execution_count": 44,
   "metadata": {},
   "outputs": [
    {
     "data": {
      "text/plain": [
       "SGDRegressor(alpha=0.0001, average=False, early_stopping=False, epsilon=0.1,\n",
       "             eta0=0.01, fit_intercept=True, l1_ratio=0.15,\n",
       "             learning_rate='invscaling', loss='squared_loss', max_iter=1000,\n",
       "             n_iter_no_change=5, penalty='l1', power_t=0.25, random_state=None,\n",
       "             shuffle=True, tol=0.001, validation_fraction=0.1, verbose=0,\n",
       "             warm_start=False)"
      ]
     },
     "execution_count": 44,
     "metadata": {},
     "output_type": "execute_result"
    }
   ],
   "source": [
    "from sklearn.linear_model import SGDRegressor\n",
    "sgd_reg = SGDRegressor(max_iter=1000, tol=1e-3, penalty='l1', eta0=0.01)\n",
    "sgd_reg.fit(X_train, y_train)"
   ]
  },
  {
   "cell_type": "markdown",
   "metadata": {},
   "source": [
    "#### Validation on training set"
   ]
  },
  {
   "cell_type": "code",
   "execution_count": 45,
   "metadata": {},
   "outputs": [
    {
     "data": {
      "text/plain": [
       "2098.5713320395266"
      ]
     },
     "execution_count": 45,
     "metadata": {},
     "output_type": "execute_result"
    }
   ],
   "source": [
    "y_pred = sgd_reg.predict(X_train)\n",
    "sgd_mse = mean_squared_error(y_train, y_pred)\n",
    "sgd_rmse = np.sqrt(sgd_mse)\n",
    "sgd_rmse"
   ]
  },
  {
   "cell_type": "markdown",
   "metadata": {},
   "source": [
    "#### Cross-validation"
   ]
  },
  {
   "cell_type": "code",
   "execution_count": 46,
   "metadata": {},
   "outputs": [
    {
     "name": "stdout",
     "output_type": "stream",
     "text": [
      "Scores: [ 4936.69310085  1965.13688623  3490.7586049   4728.09490244\n",
      "  2988.65373531  5449.97337815 14270.49837162  2023.83279427\n",
      "  2708.70745361  3755.42693278]\n",
      "Mean: 4631.777616017142\n",
      "Standart deviation: 3406.7132458975884\n"
     ]
    }
   ],
   "source": [
    "sgd_scores = cross_val_score(sgd_reg, X, y, scoring='neg_mean_squared_error', cv=10)\n",
    "sgd_rmse_scores = np.sqrt(-sgd_scores)\n",
    "display_scores(sgd_rmse_scores)"
   ]
  },
  {
   "cell_type": "markdown",
   "metadata": {},
   "source": [
    "### Ridge"
   ]
  },
  {
   "cell_type": "code",
   "execution_count": 47,
   "metadata": {},
   "outputs": [],
   "source": [
    "from sklearn.linear_model import Ridge\n",
    "\n",
    "RMSE_train=[]\n",
    "RMSE_cv=[]\n",
    "\n",
    "alphas = [0.1,0.5,1,2,4,8,16,32,64,128,256]\n",
    "\n",
    "for alpha in alphas:\n",
    "    RM = Ridge(alpha=alpha)\n",
    "    RM.fit(X_train, y_train)\n",
    "    y_pred = RM.predict(X_train)\n",
    "    ridge_mse = mean_squared_error(y_train, y_pred)\n",
    "    ridge_rmse = np.sqrt(ridge_mse)\n",
    "    RMSE_train.append(ridge_rmse)\n",
    "    \n",
    "    ridge_scores = cross_val_score(RM, X, y, scoring='neg_mean_squared_error', cv=10)\n",
    "    ridge_rmse_scores = np.sqrt(-ridge_scores)\n",
    "    RMSE_cv.append(ridge_rmse_scores.mean())"
   ]
  },
  {
   "cell_type": "code",
   "execution_count": 48,
   "metadata": {},
   "outputs": [
    {
     "data": {
      "image/png": "[encoded data removed]",
      "text/plain": [
       "<Figure size 432x288 with 1 Axes>"
      ]
     },
     "metadata": {
      "needs_background": "light"
     },
     "output_type": "display_data"
    }
   ],
   "source": [
    "import matplotlib.pyplot as plt\n",
    "\n",
    "plt.plot(alphas, RMSE_train, '-g', label='train set errors')\n",
    "plt.plot(alphas, RMSE_cv, ':b', label='cross validation errors')\n",
    "plt.xlabel('alpha')\n",
    "plt.ylabel('RMSE')\n",
    "\n",
    "plt.legend();"
   ]
  },
  {
   "cell_type": "code",
   "execution_count": 49,
   "metadata": {},
   "outputs": [
    {
     "data": {
      "text/plain": [
       "Ridge(alpha=25, copy_X=True, fit_intercept=True, max_iter=None, normalize=False,\n",
       "      random_state=None, solver='cholesky', tol=0.001)"
      ]
     },
     "execution_count": 49,
     "metadata": {},
     "output_type": "execute_result"
    }
   ],
   "source": [
    "\n",
    "ridge_reg = Ridge(alpha=25, solver='cholesky')\n",
    "ridge_reg.fit(X_train,y_train)"
   ]
  },
  {
   "cell_type": "code",
   "execution_count": 50,
   "metadata": {},
   "outputs": [
    {
     "data": {
      "text/plain": [
       "2279.332979067915"
      ]
     },
     "execution_count": 50,
     "metadata": {},
     "output_type": "execute_result"
    }
   ],
   "source": [
    "y_pred = ridge_reg.predict(X_train)\n",
    "ridge_mse = mean_squared_error(y_train, y_pred)\n",
    "ridge_rmse = np.sqrt(ridge_mse)\n",
    "ridge_rmse"
   ]
  },
  {
   "cell_type": "code",
   "execution_count": 51,
   "metadata": {},
   "outputs": [
    {
     "name": "stdout",
     "output_type": "stream",
     "text": [
      "Scores: [4829.66630928 1884.63809341 3726.48562578 5424.23350512 3220.40001784\n",
      " 5027.48274191 8826.08382604 1648.7061233  3022.84055725 2426.1836843 ]\n",
      "Mean: 4003.672048424658\n",
      "Standart deviation: 2029.3132289275238\n"
     ]
    }
   ],
   "source": [
    "ridge_scores = cross_val_score(ridge_reg, X, y, scoring='neg_mean_squared_error', cv=10)\n",
    "ridge_rmse_scores = np.sqrt(-ridge_scores)\n",
    "display_scores(ridge_rmse_scores)"
   ]
  },
  {
   "cell_type": "markdown",
   "metadata": {},
   "source": [
    "#### Save the models"
   ]
  },
  {
   "cell_type": "code",
   "execution_count": 52,
   "metadata": {},
   "outputs": [
    {
     "data": {
      "text/plain": [
       "['sgd_reg.pkl']"
      ]
     },
     "execution_count": 52,
     "metadata": {},
     "output_type": "execute_result"
    }
   ],
   "source": [
    "import joblib\n",
    "joblib.dump(lin_reg, 'lin_reg.pkl')\n",
    "joblib.dump(tree_reg, 'tree_reg.pkl')\n",
    "joblib.dump(forest_reg, 'forest_reg.pkl')\n",
    "joblib.dump(ridge_reg, 'ridge_reg.pkl')\n",
    "joblib.dump(sgd_reg, 'sgd_reg.pkl')"
   ]
  },
  {
   "cell_type": "markdown",
   "metadata": {},
   "source": [
    "### Comparing model performances"
   ]
  },
  {
   "cell_type": "code",
   "execution_count": 53,
   "metadata": {},
   "outputs": [
    {
     "data": {
      "text/html": [
       "<div>\n",
       "<style scoped>\n",
       "    .dataframe tbody tr th:only-of-type {\n",
       "        vertical-align: middle;\n",
       "    }\n",
       "\n",
       "    .dataframe tbody tr th {\n",
       "        vertical-align: top;\n",
       "    }\n",
       "\n",
       "    .dataframe thead th {\n",
       "        text-align: right;\n",
       "    }\n",
       "</style>\n",
       "<table border=\"1\" class=\"dataframe\">\n",
       "  <thead>\n",
       "    <tr style=\"text-align: right;\">\n",
       "      <th></th>\n",
       "      <th>model</th>\n",
       "      <th>train_set_RMSE</th>\n",
       "      <th>cross_val_RMSE</th>\n",
       "    </tr>\n",
       "  </thead>\n",
       "  <tbody>\n",
       "    <tr>\n",
       "      <th>0</th>\n",
       "      <td>lin_reg</td>\n",
       "      <td>2072.601132</td>\n",
       "      <td>4402.680016</td>\n",
       "    </tr>\n",
       "    <tr>\n",
       "      <th>1</th>\n",
       "      <td>tree_reg</td>\n",
       "      <td>242.876650</td>\n",
       "      <td>4400.280810</td>\n",
       "    </tr>\n",
       "    <tr>\n",
       "      <th>2</th>\n",
       "      <td>forest_reg</td>\n",
       "      <td>871.551513</td>\n",
       "      <td>3760.656603</td>\n",
       "    </tr>\n",
       "    <tr>\n",
       "      <th>3</th>\n",
       "      <td>sgd_reg</td>\n",
       "      <td>2098.571332</td>\n",
       "      <td>4631.777616</td>\n",
       "    </tr>\n",
       "    <tr>\n",
       "      <th>4</th>\n",
       "      <td>ridge_reg</td>\n",
       "      <td>2279.332979</td>\n",
       "      <td>4003.672048</td>\n",
       "    </tr>\n",
       "  </tbody>\n",
       "</table>\n",
       "</div>"
      ],
      "text/plain": [
       "        model  train_set_RMSE  cross_val_RMSE\n",
       "0     lin_reg     2072.601132     4402.680016\n",
       "1    tree_reg      242.876650     4400.280810\n",
       "2  forest_reg      871.551513     3760.656603\n",
       "3     sgd_reg     2098.571332     4631.777616\n",
       "4   ridge_reg     2279.332979     4003.672048"
      ]
     },
     "execution_count": 53,
     "metadata": {},
     "output_type": "execute_result"
    }
   ],
   "source": [
    "df = {'model': ['lin_reg', 'tree_reg', 'forest_reg', 'sgd_reg', 'ridge_reg'],\n",
    "      'train_set_RMSE': [lin_rmse, tree_rmse, forest_rmse, sgd_rmse, ridge_rmse],\n",
    "      'cross_val_RMSE': [ lin_rmse_scores.mean(), tree_rmse_scores.mean(), forest_rmse_scores.mean(),\n",
    "                         sgd_rmse_scores.mean(), ridge_rmse_scores.mean()]\n",
    "     }\n",
    "\n",
    "df = pd.DataFrame(df)\n",
    "df"
   ]
  },
  {
   "cell_type": "markdown",
   "metadata": {},
   "source": [
    "## Fine-Tuning the Model Hyperparameters"
   ]
  },
  {
   "cell_type": "markdown",
   "metadata": {},
   "source": [
    "### Decision Tree"
   ]
  },
  {
   "cell_type": "code",
   "execution_count": 54,
   "metadata": {},
   "outputs": [
    {
     "data": {
      "text/plain": [
       "{'ccp_alpha': 0.0,\n",
       " 'criterion': 'mse',\n",
       " 'max_depth': None,\n",
       " 'max_features': None,\n",
       " 'max_leaf_nodes': None,\n",
       " 'min_impurity_decrease': 0.0,\n",
       " 'min_impurity_split': None,\n",
       " 'min_samples_leaf': 1,\n",
       " 'min_samples_split': 2,\n",
       " 'min_weight_fraction_leaf': 0.0,\n",
       " 'presort': 'deprecated',\n",
       " 'random_state': None,\n",
       " 'splitter': 'best'}"
      ]
     },
     "execution_count": 54,
     "metadata": {},
     "output_type": "execute_result"
    }
   ],
   "source": [
    "tree_reg.get_params()"
   ]
  },
  {
   "cell_type": "markdown",
   "metadata": {},
   "source": [
    "#### Random Search"
   ]
  },
  {
   "cell_type": "code",
   "execution_count": 55,
   "metadata": {},
   "outputs": [],
   "source": [
    "criterion = ['mse', 'friedman_mse', 'mae']\n",
    "max_features = ['auto', 'sqrt']\n",
    "max_depth = [int(i) for i in range(10, 100, 10)]\n",
    "min_samples_split = [2, 5, 10]\n",
    "min_samples_leaf = [1, 2, 4]\n",
    "splitter = ['best','random']\n",
    "\n",
    "random_grid = {'criterion': criterion,\n",
    "               'max_features': max_features,\n",
    "               'max_depth': max_depth,\n",
    "               'min_samples_split': min_samples_split,\n",
    "               'min_samples_leaf': min_samples_leaf,\n",
    "               'splitter': splitter}\n"
   ]
  },
  {
   "cell_type": "code",
   "execution_count": 56,
   "metadata": {
    "scrolled": false
   },
   "outputs": [
    {
     "name": "stdout",
     "output_type": "stream",
     "text": [
      "Fitting 4 folds for each of 100 candidates, totalling 400 fits\n"
     ]
    },
    {
     "name": "stderr",
     "output_type": "stream",
     "text": [
      "[Parallel(n_jobs=-1)]: Using backend LokyBackend with 4 concurrent workers.\n",
      "[Parallel(n_jobs=-1)]: Done  38 tasks      | elapsed:    2.8s\n",
      "[Parallel(n_jobs=-1)]: Done 400 out of 400 | elapsed:    3.8s finished\n"
     ]
    },
    {
     "data": {
      "text/plain": [
       "RandomizedSearchCV(cv=4, error_score=nan,\n",
       "                   estimator=DecisionTreeRegressor(ccp_alpha=0.0,\n",
       "                                                   criterion='mse',\n",
       "                                                   max_depth=None,\n",
       "                                                   max_features=None,\n",
       "                                                   max_leaf_nodes=None,\n",
       "                                                   min_impurity_decrease=0.0,\n",
       "                                                   min_impurity_split=None,\n",
       "                                                   min_samples_leaf=1,\n",
       "                                                   min_samples_split=2,\n",
       "                                                   min_weight_fraction_leaf=0.0,\n",
       "                                                   presort='deprecated',\n",
       "                                                   random_state=None,\n",
       "                                                   splitter='best'),\n",
       "                   iid='deprecated', n_iter=100, n_jobs=-1,\n",
       "                   param_distributions={'criterion': ['mse', 'friedman_mse',\n",
       "                                                      'mae'],\n",
       "                                        'max_depth': [10, 20, 30, 40, 50, 60,\n",
       "                                                      70, 80, 90],\n",
       "                                        'max_features': ['auto', 'sqrt'],\n",
       "                                        'min_samples_leaf': [1, 2, 4],\n",
       "                                        'min_samples_split': [2, 5, 10],\n",
       "                                        'splitter': ['best', 'random']},\n",
       "                   pre_dispatch='2*n_jobs', random_state=42, refit=True,\n",
       "                   return_train_score=False, scoring=None, verbose=2)"
      ]
     },
     "execution_count": 56,
     "metadata": {},
     "output_type": "execute_result"
    }
   ],
   "source": [
    "from sklearn.model_selection import RandomizedSearchCV\n",
    "\n",
    "tree_reg_random = RandomizedSearchCV(estimator = tree_reg,\n",
    "                               param_distributions = random_grid,\n",
    "                               n_iter = 100, cv = 4, verbose=2,random_state = 42, n_jobs = -1)\n",
    "\n",
    "tree_reg_random.fit(X_train,y_train)\n",
    "\n",
    "tree_reg_random.best_estimator_\n",
    "\n",
    "joblib.dump(tree_reg_random.best_estimator_, 'tree_random_best.pkl')"
   ]
  },
  {
   "cell_type": "code",
   "execution_count": 59,
   "metadata": {},
   "outputs": [
    {
     "data": {
      "text/plain": [
       "974.5379244071199"
      ]
     },
     "execution_count": 59,
     "metadata": {},
     "output_type": "execute_result"
    }
   ],
   "source": [
    "y_pred = tree_reg_random.best_estimator_.predict(X_train)\n",
    "trr_mse = mean_squared_error(y_train, y_pred)\n",
    "trr_rmse = np.sqrt(trr_mse)\n",
    "trr_rmse"
   ]
  },
  {
   "cell_type": "code",
   "execution_count": 60,
   "metadata": {},
   "outputs": [
    {
     "name": "stdout",
     "output_type": "stream",
     "text": [
      "Scores: [8948.74664523 5629.95704554 2831.5768967  5258.37635343 1681.56210917\n",
      " 2765.34826619 9219.68446061 1993.615953   3492.69345046 5065.26675781]\n",
      "Mean: 4688.682793813819\n",
      "Standart deviation: 2547.844033482445\n"
     ]
    }
   ],
   "source": [
    "trr_scores = cross_val_score(tree_reg_random.best_estimator_, X, y, scoring='neg_mean_squared_error', cv=10)\n",
    "trr_rmse_scores = np.sqrt(-trr_scores)\n",
    "display_scores(trr_rmse_scores)"
   ]
  },
  {
   "cell_type": "markdown",
   "metadata": {},
   "source": [
    "#### Grid Search Based on Random Search"
   ]
  },
  {
   "cell_type": "code",
   "execution_count": 61,
   "metadata": {},
   "outputs": [],
   "source": [
    "from sklearn.model_selection import GridSearchCV\n",
    "\n",
    "param_grid = {'ccp_alpha': [0, 1],\n",
    "              'criterion': ['mae'],\n",
    "               'max_features': [1,2,3],\n",
    "               'max_depth': [20,30,40,50,60,70],\n",
    "               'min_samples_split': [3, 5, 7],\n",
    "               'min_samples_leaf': [1, 2, 3]}\n",
    "\n",
    "grid_search = GridSearchCV(tree_reg, param_grid = param_grid, cv = 10, n_jobs = -1, verbose = 2)\n",
    "\n",
    "grid_search.fit(X_train,y_train)\n",
    "\n",
    "best_grid = grid_search.best_estimator_\n",
    "\n",
    "joblib.dump(best_grid, 'tree_grid_best.pkl')"
   ]
  },
  {
   "cell_type": "code",
   "execution_count": 67,
   "metadata": {},
   "outputs": [
    {
     "data": {
      "text/plain": [
       "1812.3348706080478"
      ]
     },
     "execution_count": 67,
     "metadata": {},
     "output_type": "execute_result"
    }
   ],
   "source": [
    "y_pred = best_grid.predict(X_train)\n",
    "best_mse = mean_squared_error(y_train, y_pred)\n",
    "best_rmse = np.sqrt(best_mse)\n",
    "best_rmse"
   ]
  },
  {
   "cell_type": "code",
   "execution_count": 68,
   "metadata": {
    "scrolled": true
   },
   "outputs": [
    {
     "name": "stdout",
     "output_type": "stream",
     "text": [
      "Scores: [9383.33799311 1444.23755631 7594.33341498 7336.38638828 6966.34750931\n",
      " 4267.56562779 8746.11239651 2236.95239947 5363.09334247 4507.16384909]\n",
      "Mean: 5784.553047730811\n",
      "Standart deviation: 2536.4665956447466\n"
     ]
    }
   ],
   "source": [
    "bg_scores = cross_val_score(best_grid, X, y, scoring='neg_mean_squared_error', cv=10)\n",
    "bg_rmse_scores = np.sqrt(-bg_scores)\n",
    "display_scores(bg_rmse_scores)"
   ]
  },
  {
   "cell_type": "markdown",
   "metadata": {},
   "source": [
    "### Random Forest"
   ]
  },
  {
   "cell_type": "code",
   "execution_count": 69,
   "metadata": {},
   "outputs": [
    {
     "data": {
      "text/plain": [
       "{'bootstrap': True,\n",
       " 'ccp_alpha': 0.0,\n",
       " 'criterion': 'mse',\n",
       " 'max_depth': None,\n",
       " 'max_features': 'auto',\n",
       " 'max_leaf_nodes': None,\n",
       " 'max_samples': None,\n",
       " 'min_impurity_decrease': 0.0,\n",
       " 'min_impurity_split': None,\n",
       " 'min_samples_leaf': 1,\n",
       " 'min_samples_split': 2,\n",
       " 'min_weight_fraction_leaf': 0.0,\n",
       " 'n_estimators': 100,\n",
       " 'n_jobs': None,\n",
       " 'oob_score': False,\n",
       " 'random_state': None,\n",
       " 'verbose': 0,\n",
       " 'warm_start': False}"
      ]
     },
     "execution_count": 69,
     "metadata": {},
     "output_type": "execute_result"
    }
   ],
   "source": [
    "forest_reg.get_params()"
   ]
  },
  {
   "cell_type": "markdown",
   "metadata": {},
   "source": [
    "#### Random Search"
   ]
  },
  {
   "cell_type": "code",
   "execution_count": 70,
   "metadata": {},
   "outputs": [],
   "source": [
    "n_estimators = [int(i) for i in range(10, 1000, 10)]\n",
    "max_features = ['auto', 'sqrt']\n",
    "max_depth = [int(i) for i in range(10, 100, 10)]\n",
    "min_samples_split = [2, 5, 10]\n",
    "min_samples_leaf = [1, 2, 4]\n",
    "bootstrap = [True, False]\n",
    "random_grid = {'n_estimators': n_estimators,\n",
    "               'max_features': max_features,\n",
    "               'max_depth': max_depth,\n",
    "               'min_samples_split': min_samples_split,\n",
    "               'min_samples_leaf': min_samples_leaf,\n",
    "               'bootstrap': bootstrap}\n",
    "\n",
    "\n",
    "forest_reg_random = RandomizedSearchCV(estimator = forest_reg,\n",
    "                               param_distributions = random_grid,\n",
    "                               n_iter = 100, cv = 4, verbose=2, random_state=42, n_jobs = -1)\n",
    "\n",
    "forest_reg_random.fit(X_train,y_train)\n",
    "\n",
    "# Save randomized search random forest regression\n",
    "forest_reg_random = joblib.load('forest_reg_random.pkl')\n",
    "\n",
    "# Save randomized search random forest regression with the best estimators\n",
    "joblib.dump(forest_reg_random.best_estimator_, 'forest_random_best.pkl')"
   ]
  },
  {
   "cell_type": "code",
   "execution_count": 73,
   "metadata": {},
   "outputs": [
    {
     "data": {
      "text/plain": [
       "924.2595467948604"
      ]
     },
     "execution_count": 73,
     "metadata": {},
     "output_type": "execute_result"
    }
   ],
   "source": [
    "y_pred = forest_reg_random.best_estimator_.predict(X_train)\n",
    "frr_mse = mean_squared_error(y_train, y_pred)\n",
    "frr_rmse = np.sqrt(frr_mse)\n",
    "frr_rmse"
   ]
  },
  {
   "cell_type": "code",
   "execution_count": 75,
   "metadata": {},
   "outputs": [
    {
     "name": "stdout",
     "output_type": "stream",
     "text": [
      "Scores: [5663.01286128  924.9478247  2615.92301249 4941.75933268 1976.89643267\n",
      " 3729.69129099 7206.80834952 1067.72392145 2584.03872672 2114.16488239]\n",
      "Mean: 3282.496663488436\n",
      "Standart deviation: 1961.7651510451428\n"
     ]
    }
   ],
   "source": [
    "frr_scores = cross_val_score(forest_reg_random.best_estimator_, X, y, scoring='neg_mean_squared_error', cv=10)\n",
    "frr_rmse_scores = np.sqrt(-frr_scores)\n",
    "display_scores(frr_rmse_scores)"
   ]
  },
  {
   "cell_type": "markdown",
   "metadata": {},
   "source": [
    "#### Grid Search Based on Random Search"
   ]
  },
  {
   "cell_type": "code",
   "execution_count": 78,
   "metadata": {},
   "outputs": [
    {
     "data": {
      "text/plain": [
       "'\\ngrid_random = GridSearchCV(forest_reg, param_grid = random_grid, cv = 10, n_jobs = -1, verbose = 2)\\n\\ngrid_random.fit(X_train,y_train)\\n\\n'"
      ]
     },
     "execution_count": 78,
     "metadata": {},
     "output_type": "execute_result"
    }
   ],
   "source": [
    "\"\"\"\n",
    "random_grid = {'n_estimators': [20, 30, 40, 50, 60],\n",
    "               'max_features': [1, 2, 3],\n",
    "               'max_depth': [60, 70, 80],\n",
    "               'min_samples_split': [3, 5, 7],\n",
    "               'min_samples_leaf': [1, 2, 3],\n",
    "               'bootstrap': [False]}\n",
    "\n",
    "grid_random = GridSearchCV(forest_reg, param_grid = random_grid, cv = 10, n_jobs = -1, verbose = 2)\n",
    "\n",
    "grid_random.fit(X_train,y_train)\n",
    "\n",
    "best_grid_random = grid_random.best_estimator_\n",
    "\n",
    "joblib.dump(best_grid_random, 'forest_grid_best.pkl')\n",
    "\n",
    "\"\"\""
   ]
  },
  {
   "cell_type": "code",
   "execution_count": 82,
   "metadata": {},
   "outputs": [],
   "source": [
    "best_grid_random = joblib.load('forest_grid_best.pkl')"
   ]
  },
  {
   "cell_type": "code",
   "execution_count": 83,
   "metadata": {},
   "outputs": [
    {
     "data": {
      "text/plain": [
       "542.5645679455679"
      ]
     },
     "execution_count": 83,
     "metadata": {},
     "output_type": "execute_result"
    }
   ],
   "source": [
    "y_pred = best_grid_random.predict(X_train)\n",
    "best_grid_random_mse = mean_squared_error(y_train, y_pred)\n",
    "best_grid_random_rmse = np.sqrt(best_grid_random_mse)\n",
    "best_grid_random_rmse"
   ]
  },
  {
   "cell_type": "code",
   "execution_count": 84,
   "metadata": {},
   "outputs": [
    {
     "name": "stdout",
     "output_type": "stream",
     "text": [
      "Scores: [6248.8740815   830.14010254 2701.26697628 5684.69697893 1879.11998617\n",
      " 4272.83256199 7834.50876602 1206.14022547 2698.77079868 2426.41805108]\n",
      "Mean: 3578.2768528660367\n",
      "Standart deviation: 2215.9172095106715\n"
     ]
    }
   ],
   "source": [
    "bgr_scores = cross_val_score(best_grid_random, X, y, scoring='neg_mean_squared_error', cv=10)\n",
    "bgr_rmse_scores = np.sqrt(-bgr_scores)\n",
    "display_scores(bgr_rmse_scores)"
   ]
  },
  {
   "cell_type": "markdown",
   "metadata": {},
   "source": [
    "### Ridge"
   ]
  },
  {
   "cell_type": "code",
   "execution_count": 86,
   "metadata": {},
   "outputs": [
    {
     "data": {
      "text/plain": [
       "{'alpha': 25,\n",
       " 'copy_X': True,\n",
       " 'fit_intercept': True,\n",
       " 'max_iter': None,\n",
       " 'normalize': False,\n",
       " 'random_state': None,\n",
       " 'solver': 'cholesky',\n",
       " 'tol': 0.001}"
      ]
     },
     "execution_count": 86,
     "metadata": {},
     "output_type": "execute_result"
    }
   ],
   "source": [
    "ridge_reg.get_params()"
   ]
  },
  {
   "cell_type": "markdown",
   "metadata": {},
   "source": [
    "#### Random Search"
   ]
  },
  {
   "cell_type": "code",
   "execution_count": 87,
   "metadata": {},
   "outputs": [],
   "source": [
    "alpha = [float(i) for i in np.arange(0.01, 500.0, 10.0)]\n",
    "max_iter = [int(i) for i in range(10, 1000, 10)]\n",
    "copy_X = [True, False]\n",
    "solver = ['auto','svd','cholesky','lsqr','sparse_cg','sag','saga']\n",
    "normalize = [True, False]\n",
    "fit_intercept = [True, False]\n",
    "\n",
    "random_grid = {'alpha': alpha,\n",
    "               'max_iter': max_iter,\n",
    "               'copy_X': copy_X,\n",
    "               'solver': solver,\n",
    "               'normalize': normalize,\n",
    "               'fit_intercept': fit_intercept}\n",
    "\n",
    "ridge_reg_random = RandomizedSearchCV(estimator = ridge_reg, param_distributions = random_grid,\n",
    "                                      n_iter = 100, verbose=2, cv=4, random_state=42, n_jobs = -1)\n",
    "\n",
    "ridge_reg_random.fit(X_train,y_train)\n",
    "\n",
    "joblib.dump(ridge_reg_random.best_estimator_, 'ridge_random_best.pkl')"
   ]
  },
  {
   "cell_type": "code",
   "execution_count": 91,
   "metadata": {},
   "outputs": [
    {
     "data": {
      "text/plain": [
       "2233.7658350788356"
      ]
     },
     "execution_count": 91,
     "metadata": {},
     "output_type": "execute_result"
    }
   ],
   "source": [
    "y_pred = ridge_reg_random.best_estimator_.predict(X_train)\n",
    "rrr_mse = mean_squared_error(y_train, y_pred)\n",
    "rrr_rmse = np.sqrt(rrr_mse)\n",
    "rrr_rmse"
   ]
  },
  {
   "cell_type": "code",
   "execution_count": 92,
   "metadata": {},
   "outputs": [
    {
     "name": "stdout",
     "output_type": "stream",
     "text": [
      "Scores: [4790.64691212 1890.11166041 3687.08223809 5252.96279974 3192.69008098\n",
      " 5117.49175389 8930.49680795 1694.89031998 2997.65415371 2560.03345399]\n",
      "Mean: 4011.4060180876304\n",
      "Standart deviation: 2033.3556270529414\n"
     ]
    }
   ],
   "source": [
    "rrr_scores = cross_val_score(ridge_reg_random.best_estimator_, X, y, scoring='neg_mean_squared_error', cv=10)\n",
    "rrr_rmse_scores = np.sqrt(-rrr_scores)\n",
    "display_scores(rrr_rmse_scores)"
   ]
  },
  {
   "cell_type": "markdown",
   "metadata": {},
   "source": [
    "#### Grid Search Based on Random Search"
   ]
  },
  {
   "cell_type": "code",
   "execution_count": 93,
   "metadata": {},
   "outputs": [
    {
     "data": {
      "text/plain": [
       "Ridge(alpha=20.01, copy_X=True, fit_intercept=True, max_iter=320,\n",
       "      normalize=False, random_state=None, solver='sag', tol=0.001)"
      ]
     },
     "execution_count": 93,
     "metadata": {},
     "output_type": "execute_result"
    }
   ],
   "source": [
    "ridge_reg_random.best_estimator_"
   ]
  },
  {
   "cell_type": "code",
   "execution_count": 95,
   "metadata": {},
   "outputs": [
    {
     "data": {
      "text/plain": [
       "'grid_ridge = GridSearchCV(ridge_reg, param_grid = random_grid, cv = 10, n_jobs = -1, verbose = 2)\\n\\ngrid_ridge.fit(X_train,y_train)'"
      ]
     },
     "execution_count": 95,
     "metadata": {},
     "output_type": "execute_result"
    }
   ],
   "source": [
    "\"\"\"\n",
    "random_grid = {'alpha': [float(i) for i in np.arange(20, 100, 0.1)],\n",
    "               'max_iter': [int(i) for i in range(600, 900, 10)],\n",
    "               'copy_X': [True],\n",
    "               'solver': ['auto'],\n",
    "               'normalize': [True, False],\n",
    "               'fit_intercept': [True, False]}\n",
    "               \n",
    "grid_ridge = GridSearchCV(ridge_reg, param_grid = random_grid, cv = 10, n_jobs = -1, verbose = 2)\n",
    "\n",
    "grid_ridge.fit(X_train,y_train)\n",
    "\n",
    "best_grid_ridge = grid_ridge.best_estimator_\n",
    "\n",
    "joblib.dump(best_grid_ridge, 'ridge_grid_best.pkl')\n",
    "\n",
    "\"\"\""
   ]
  },
  {
   "cell_type": "code",
   "execution_count": 97,
   "metadata": {},
   "outputs": [],
   "source": [
    "best_grid_ridge = joblib.load('ridge_grid_best.pkl')"
   ]
  },
  {
   "cell_type": "code",
   "execution_count": 98,
   "metadata": {},
   "outputs": [
    {
     "data": {
      "text/plain": [
       "2233.634917353516"
      ]
     },
     "execution_count": 98,
     "metadata": {},
     "output_type": "execute_result"
    }
   ],
   "source": [
    "y_pred = best_grid_ridge.predict(X_train)\n",
    "best_grid_ridge_mse = mean_squared_error(y_train, y_pred)\n",
    "best_grid_ridge_rmse = np.sqrt(best_grid_ridge_mse)\n",
    "best_grid_ridge_rmse"
   ]
  },
  {
   "cell_type": "code",
   "execution_count": 99,
   "metadata": {},
   "outputs": [
    {
     "name": "stdout",
     "output_type": "stream",
     "text": [
      "Scores: [4792.67656615 1891.02853278 3687.91037815 5254.73612157 3194.14377546\n",
      " 5115.34476917 8931.35187547 1696.95584338 2996.22265164 2561.18127056]\n",
      "Mean: 4012.155178430911\n",
      "Standart deviation: 2033.218930374245\n"
     ]
    }
   ],
   "source": [
    "best_grid_ridge_scores = cross_val_score(best_grid_ridge, X, y, scoring='neg_mean_squared_error', cv=10)\n",
    "best_grid_ridge_rmse_scores = np.sqrt(-best_grid_ridge_scores)\n",
    "display_scores(best_grid_ridge_rmse_scores)"
   ]
  },
  {
   "cell_type": "markdown",
   "metadata": {},
   "source": [
    "### Creating a New Dataframe for Tuned Models"
   ]
  },
  {
   "cell_type": "code",
   "execution_count": 100,
   "metadata": {},
   "outputs": [
    {
     "data": {
      "text/html": [
       "<div>\n",
       "<style scoped>\n",
       "    .dataframe tbody tr th:only-of-type {\n",
       "        vertical-align: middle;\n",
       "    }\n",
       "\n",
       "    .dataframe tbody tr th {\n",
       "        vertical-align: top;\n",
       "    }\n",
       "\n",
       "    .dataframe thead th {\n",
       "        text-align: right;\n",
       "    }\n",
       "</style>\n",
       "<table border=\"1\" class=\"dataframe\">\n",
       "  <thead>\n",
       "    <tr style=\"text-align: right;\">\n",
       "      <th></th>\n",
       "      <th>model</th>\n",
       "      <th>train_set_RMSE</th>\n",
       "      <th>cross_val_RMSE</th>\n",
       "    </tr>\n",
       "  </thead>\n",
       "  <tbody>\n",
       "    <tr>\n",
       "      <th>0</th>\n",
       "      <td>tree_random_best</td>\n",
       "      <td>974.537924</td>\n",
       "      <td>4688.682794</td>\n",
       "    </tr>\n",
       "    <tr>\n",
       "      <th>1</th>\n",
       "      <td>tree_grid_best</td>\n",
       "      <td>1812.334871</td>\n",
       "      <td>5784.553048</td>\n",
       "    </tr>\n",
       "    <tr>\n",
       "      <th>2</th>\n",
       "      <td>forest_random_best</td>\n",
       "      <td>924.259547</td>\n",
       "      <td>3282.496663</td>\n",
       "    </tr>\n",
       "    <tr>\n",
       "      <th>3</th>\n",
       "      <td>forest_grid_best</td>\n",
       "      <td>542.564568</td>\n",
       "      <td>3578.276853</td>\n",
       "    </tr>\n",
       "    <tr>\n",
       "      <th>4</th>\n",
       "      <td>ridge_random_best</td>\n",
       "      <td>2233.765835</td>\n",
       "      <td>4011.406018</td>\n",
       "    </tr>\n",
       "    <tr>\n",
       "      <th>5</th>\n",
       "      <td>ridge_grid_best</td>\n",
       "      <td>2233.634917</td>\n",
       "      <td>4012.155178</td>\n",
       "    </tr>\n",
       "  </tbody>\n",
       "</table>\n",
       "</div>"
      ],
      "text/plain": [
       "                model  train_set_RMSE  cross_val_RMSE\n",
       "0    tree_random_best      974.537924     4688.682794\n",
       "1      tree_grid_best     1812.334871     5784.553048\n",
       "2  forest_random_best      924.259547     3282.496663\n",
       "3    forest_grid_best      542.564568     3578.276853\n",
       "4   ridge_random_best     2233.765835     4011.406018\n",
       "5     ridge_grid_best     2233.634917     4012.155178"
      ]
     },
     "execution_count": 100,
     "metadata": {},
     "output_type": "execute_result"
    }
   ],
   "source": [
    "tuned_df = {'model': ['tree_random_best', 'tree_grid_best', 'forest_random_best', 'forest_grid_best',\n",
    "                      'ridge_random_best', 'ridge_grid_best'],\n",
    "            'train_set_RMSE': [trr_rmse, best_rmse, frr_rmse, best_grid_random_rmse, rrr_rmse, best_grid_ridge_rmse],\n",
    "            'cross_val_RMSE': [ trr_rmse_scores.mean(), bg_rmse_scores.mean(), frr_rmse_scores.mean(),\n",
    "                         bgr_rmse_scores.mean(), rrr_rmse_scores.mean(), best_grid_ridge_rmse_scores.mean()]\n",
    "     }\n",
    "\n",
    "tuned_df = pd.DataFrame(tuned_df)\n",
    "tuned_df"
   ]
  },
  {
   "cell_type": "markdown",
   "metadata": {},
   "source": [
    "### Merging the new dataframe with the previous one"
   ]
  },
  {
   "cell_type": "code",
   "execution_count": 101,
   "metadata": {},
   "outputs": [
    {
     "data": {
      "text/html": [
       "<div>\n",
       "<style scoped>\n",
       "    .dataframe tbody tr th:only-of-type {\n",
       "        vertical-align: middle;\n",
       "    }\n",
       "\n",
       "    .dataframe tbody tr th {\n",
       "        vertical-align: top;\n",
       "    }\n",
       "\n",
       "    .dataframe thead th {\n",
       "        text-align: right;\n",
       "    }\n",
       "</style>\n",
       "<table border=\"1\" class=\"dataframe\">\n",
       "  <thead>\n",
       "    <tr style=\"text-align: right;\">\n",
       "      <th></th>\n",
       "      <th>model</th>\n",
       "      <th>train_set_RMSE</th>\n",
       "      <th>cross_val_RMSE</th>\n",
       "    </tr>\n",
       "  </thead>\n",
       "  <tbody>\n",
       "    <tr>\n",
       "      <th>7</th>\n",
       "      <td>forest_random_best</td>\n",
       "      <td>924.259547</td>\n",
       "      <td>3282.496663</td>\n",
       "    </tr>\n",
       "    <tr>\n",
       "      <th>8</th>\n",
       "      <td>forest_grid_best</td>\n",
       "      <td>542.564568</td>\n",
       "      <td>3578.276853</td>\n",
       "    </tr>\n",
       "    <tr>\n",
       "      <th>2</th>\n",
       "      <td>forest_reg</td>\n",
       "      <td>871.551513</td>\n",
       "      <td>3760.656603</td>\n",
       "    </tr>\n",
       "    <tr>\n",
       "      <th>4</th>\n",
       "      <td>ridge_reg</td>\n",
       "      <td>2279.332979</td>\n",
       "      <td>4003.672048</td>\n",
       "    </tr>\n",
       "    <tr>\n",
       "      <th>9</th>\n",
       "      <td>ridge_random_best</td>\n",
       "      <td>2233.765835</td>\n",
       "      <td>4011.406018</td>\n",
       "    </tr>\n",
       "    <tr>\n",
       "      <th>10</th>\n",
       "      <td>ridge_grid_best</td>\n",
       "      <td>2233.634917</td>\n",
       "      <td>4012.155178</td>\n",
       "    </tr>\n",
       "    <tr>\n",
       "      <th>1</th>\n",
       "      <td>tree_reg</td>\n",
       "      <td>242.876650</td>\n",
       "      <td>4400.280810</td>\n",
       "    </tr>\n",
       "    <tr>\n",
       "      <th>0</th>\n",
       "      <td>lin_reg</td>\n",
       "      <td>2072.601132</td>\n",
       "      <td>4402.680016</td>\n",
       "    </tr>\n",
       "    <tr>\n",
       "      <th>3</th>\n",
       "      <td>sgd_reg</td>\n",
       "      <td>2098.571332</td>\n",
       "      <td>4631.777616</td>\n",
       "    </tr>\n",
       "    <tr>\n",
       "      <th>5</th>\n",
       "      <td>tree_random_best</td>\n",
       "      <td>974.537924</td>\n",
       "      <td>4688.682794</td>\n",
       "    </tr>\n",
       "    <tr>\n",
       "      <th>6</th>\n",
       "      <td>tree_grid_best</td>\n",
       "      <td>1812.334871</td>\n",
       "      <td>5784.553048</td>\n",
       "    </tr>\n",
       "  </tbody>\n",
       "</table>\n",
       "</div>"
      ],
      "text/plain": [
       "                 model  train_set_RMSE  cross_val_RMSE\n",
       "7   forest_random_best      924.259547     3282.496663\n",
       "8     forest_grid_best      542.564568     3578.276853\n",
       "2           forest_reg      871.551513     3760.656603\n",
       "4            ridge_reg     2279.332979     4003.672048\n",
       "9    ridge_random_best     2233.765835     4011.406018\n",
       "10     ridge_grid_best     2233.634917     4012.155178\n",
       "1             tree_reg      242.876650     4400.280810\n",
       "0              lin_reg     2072.601132     4402.680016\n",
       "3              sgd_reg     2098.571332     4631.777616\n",
       "5     tree_random_best      974.537924     4688.682794\n",
       "6       tree_grid_best     1812.334871     5784.553048"
      ]
     },
     "execution_count": 101,
     "metadata": {},
     "output_type": "execute_result"
    }
   ],
   "source": [
    "errors = pd.concat([df, tuned_df], axis=0, sort=False)\n",
    "errors.reset_index(inplace=True, drop=True)\n",
    "errors.sort_values('cross_val_RMSE')"
   ]
  },
  {
   "cell_type": "markdown",
   "metadata": {},
   "source": [
    "### Visualizing Model Errors"
   ]
  },
  {
   "cell_type": "code",
   "execution_count": 102,
   "metadata": {},
   "outputs": [
    {
     "data": {
      "text/plain": [
       "Text(0, 0.5, 'RMSE')"
      ]
     },
     "execution_count": 102,
     "metadata": {},
     "output_type": "execute_result"
    },
    {
     "data": {
      "image/png": "[encoded data removed]",
      "text/plain": [
       "<Figure size 720x432 with 1 Axes>"
      ]
     },
     "metadata": {
      "needs_background": "light"
     },
     "output_type": "display_data"
    }
   ],
   "source": [
    "ax = errors.sort_values('cross_val_RMSE').plot.bar(x='model', rot=90, figsize=(10, 6))\n",
    "plt.ylabel('RMSE')"
   ]
  },
  {
   "cell_type": "markdown",
   "metadata": {},
   "source": [
    "### Finding Test Set Errors"
   ]
  },
  {
   "cell_type": "markdown",
   "metadata": {},
   "source": [
    "#### Load the models"
   ]
  },
  {
   "cell_type": "code",
   "execution_count": 103,
   "metadata": {},
   "outputs": [],
   "source": [
    "tree_random_best = joblib.load('tree_random_best.pkl')\n",
    "tree_grid_best =joblib.load('tree_grid_best.pkl')\n",
    "forest_random_best = joblib.load('forest_random_best.pkl')\n",
    "forest_grid_best =joblib.load('forest_grid_best.pkl')\n",
    "ridge_random_best = joblib.load('ridge_random_best.pkl')\n",
    "ridge_grid_best = joblib.load('ridge_grid_best.pkl')"
   ]
  },
  {
   "cell_type": "markdown",
   "metadata": {},
   "source": [
    "#### Test Set Errors"
   ]
  },
  {
   "cell_type": "code",
   "execution_count": 104,
   "metadata": {},
   "outputs": [],
   "source": [
    "def test_rmse(model, test, label):\n",
    "    y_pred = model.predict(test)\n",
    "    model_mse = mean_squared_error(label, y_pred)\n",
    "    model_test_rmse = np.sqrt(model_mse) \n",
    "    return model_test_rmse"
   ]
  },
  {
   "cell_type": "code",
   "execution_count": 105,
   "metadata": {},
   "outputs": [],
   "source": [
    "models = [lin_reg, tree_reg, forest_reg, sgd_reg, ridge_reg, tree_random_best, tree_grid_best,\n",
    "         forest_random_best, forest_grid_best, ridge_random_best, ridge_grid_best]\n",
    "\n",
    "test_set_scores = []\n",
    "\n",
    "for m in models:\n",
    "    result = test_rmse(m, X_test, y_test)\n",
    "    test_set_scores.append(result)"
   ]
  },
  {
   "cell_type": "markdown",
   "metadata": {},
   "source": [
    "#### Visualize Test Set RMSE"
   ]
  },
  {
   "cell_type": "code",
   "execution_count": 106,
   "metadata": {},
   "outputs": [
    {
     "data": {
      "text/html": [
       "<div>\n",
       "<style scoped>\n",
       "    .dataframe tbody tr th:only-of-type {\n",
       "        vertical-align: middle;\n",
       "    }\n",
       "\n",
       "    .dataframe tbody tr th {\n",
       "        vertical-align: top;\n",
       "    }\n",
       "\n",
       "    .dataframe thead th {\n",
       "        text-align: right;\n",
       "    }\n",
       "</style>\n",
       "<table border=\"1\" class=\"dataframe\">\n",
       "  <thead>\n",
       "    <tr style=\"text-align: right;\">\n",
       "      <th></th>\n",
       "      <th>model</th>\n",
       "      <th>test_set_RMSE</th>\n",
       "    </tr>\n",
       "  </thead>\n",
       "  <tbody>\n",
       "    <tr>\n",
       "      <th>0</th>\n",
       "      <td>lin_reg</td>\n",
       "      <td>4016.909552</td>\n",
       "    </tr>\n",
       "    <tr>\n",
       "      <th>1</th>\n",
       "      <td>tree_reg</td>\n",
       "      <td>5329.059649</td>\n",
       "    </tr>\n",
       "    <tr>\n",
       "      <th>2</th>\n",
       "      <td>forest_reg</td>\n",
       "      <td>4054.087972</td>\n",
       "    </tr>\n",
       "    <tr>\n",
       "      <th>3</th>\n",
       "      <td>sgd_reg</td>\n",
       "      <td>4115.050502</td>\n",
       "    </tr>\n",
       "    <tr>\n",
       "      <th>4</th>\n",
       "      <td>ridge_reg</td>\n",
       "      <td>4306.865551</td>\n",
       "    </tr>\n",
       "    <tr>\n",
       "      <th>5</th>\n",
       "      <td>tree_random_best</td>\n",
       "      <td>4102.632706</td>\n",
       "    </tr>\n",
       "    <tr>\n",
       "      <th>6</th>\n",
       "      <td>tree_grid_best</td>\n",
       "      <td>5461.305218</td>\n",
       "    </tr>\n",
       "    <tr>\n",
       "      <th>7</th>\n",
       "      <td>forest_random_best</td>\n",
       "      <td>1336.916706</td>\n",
       "    </tr>\n",
       "    <tr>\n",
       "      <th>8</th>\n",
       "      <td>forest_grid_best</td>\n",
       "      <td>3486.491399</td>\n",
       "    </tr>\n",
       "    <tr>\n",
       "      <th>9</th>\n",
       "      <td>ridge_random_best</td>\n",
       "      <td>4266.202222</td>\n",
       "    </tr>\n",
       "    <tr>\n",
       "      <th>10</th>\n",
       "      <td>ridge_grid_best</td>\n",
       "      <td>4265.563307</td>\n",
       "    </tr>\n",
       "  </tbody>\n",
       "</table>\n",
       "</div>"
      ],
      "text/plain": [
       "                 model  test_set_RMSE\n",
       "0              lin_reg    4016.909552\n",
       "1             tree_reg    5329.059649\n",
       "2           forest_reg    4054.087972\n",
       "3              sgd_reg    4115.050502\n",
       "4            ridge_reg    4306.865551\n",
       "5     tree_random_best    4102.632706\n",
       "6       tree_grid_best    5461.305218\n",
       "7   forest_random_best    1336.916706\n",
       "8     forest_grid_best    3486.491399\n",
       "9    ridge_random_best    4266.202222\n",
       "10     ridge_grid_best    4265.563307"
      ]
     },
     "execution_count": 106,
     "metadata": {},
     "output_type": "execute_result"
    }
   ],
   "source": [
    "model = ['lin_reg', 'tree_reg', 'forest_reg', 'sgd_reg', 'ridge_reg', 'tree_random_best', 'tree_grid_best',\n",
    "         'forest_random_best', 'forest_grid_best', 'ridge_random_best', 'ridge_grid_best']\n",
    "\n",
    "test_set_RMSE = {'model': model,\n",
    "                 'test_set_RMSE': test_set_scores}\n",
    "\n",
    "test_set_RMSE = pd.DataFrame(test_set_RMSE)\n",
    "\n",
    "test_set_RMSE"
   ]
  },
  {
   "cell_type": "code",
   "execution_count": 173,
   "metadata": {},
   "outputs": [
    {
     "data": {
      "text/html": [
       "<div>\n",
       "<style scoped>\n",
       "    .dataframe tbody tr th:only-of-type {\n",
       "        vertical-align: middle;\n",
       "    }\n",
       "\n",
       "    .dataframe tbody tr th {\n",
       "        vertical-align: top;\n",
       "    }\n",
       "\n",
       "    .dataframe thead th {\n",
       "        text-align: right;\n",
       "    }\n",
       "</style>\n",
       "<table border=\"1\" class=\"dataframe\">\n",
       "  <thead>\n",
       "    <tr style=\"text-align: right;\">\n",
       "      <th></th>\n",
       "      <th>model</th>\n",
       "      <th>train_set_RMSE</th>\n",
       "      <th>cross_val_RMSE</th>\n",
       "      <th>test_set_RMSE</th>\n",
       "    </tr>\n",
       "  </thead>\n",
       "  <tbody>\n",
       "    <tr>\n",
       "      <th>7</th>\n",
       "      <td>forest_random_best</td>\n",
       "      <td>924.259547</td>\n",
       "      <td>3282.496663</td>\n",
       "      <td>1336.916706</td>\n",
       "    </tr>\n",
       "    <tr>\n",
       "      <th>8</th>\n",
       "      <td>forest_grid_best</td>\n",
       "      <td>542.564568</td>\n",
       "      <td>3578.276853</td>\n",
       "      <td>3486.491399</td>\n",
       "    </tr>\n",
       "    <tr>\n",
       "      <th>2</th>\n",
       "      <td>forest_reg</td>\n",
       "      <td>871.551513</td>\n",
       "      <td>3760.656603</td>\n",
       "      <td>4054.087972</td>\n",
       "    </tr>\n",
       "    <tr>\n",
       "      <th>4</th>\n",
       "      <td>ridge_reg</td>\n",
       "      <td>2279.332979</td>\n",
       "      <td>4003.672048</td>\n",
       "      <td>4306.865551</td>\n",
       "    </tr>\n",
       "    <tr>\n",
       "      <th>9</th>\n",
       "      <td>ridge_random_best</td>\n",
       "      <td>2233.765835</td>\n",
       "      <td>4011.406018</td>\n",
       "      <td>4266.202222</td>\n",
       "    </tr>\n",
       "    <tr>\n",
       "      <th>10</th>\n",
       "      <td>ridge_grid_best</td>\n",
       "      <td>2233.634917</td>\n",
       "      <td>4012.155178</td>\n",
       "      <td>4265.563307</td>\n",
       "    </tr>\n",
       "    <tr>\n",
       "      <th>1</th>\n",
       "      <td>tree_reg</td>\n",
       "      <td>242.876650</td>\n",
       "      <td>4400.280810</td>\n",
       "      <td>5329.059649</td>\n",
       "    </tr>\n",
       "    <tr>\n",
       "      <th>0</th>\n",
       "      <td>lin_reg</td>\n",
       "      <td>2072.601132</td>\n",
       "      <td>4402.680016</td>\n",
       "      <td>4016.909552</td>\n",
       "    </tr>\n",
       "    <tr>\n",
       "      <th>3</th>\n",
       "      <td>sgd_reg</td>\n",
       "      <td>2098.571332</td>\n",
       "      <td>4631.777616</td>\n",
       "      <td>4115.050502</td>\n",
       "    </tr>\n",
       "    <tr>\n",
       "      <th>5</th>\n",
       "      <td>tree_random_best</td>\n",
       "      <td>974.537924</td>\n",
       "      <td>4688.682794</td>\n",
       "      <td>4102.632706</td>\n",
       "    </tr>\n",
       "    <tr>\n",
       "      <th>6</th>\n",
       "      <td>tree_grid_best</td>\n",
       "      <td>1812.334871</td>\n",
       "      <td>5784.553048</td>\n",
       "      <td>5461.305218</td>\n",
       "    </tr>\n",
       "  </tbody>\n",
       "</table>\n",
       "</div>"
      ],
      "text/plain": [
       "                 model  train_set_RMSE  cross_val_RMSE  test_set_RMSE\n",
       "7   forest_random_best      924.259547     3282.496663    1336.916706\n",
       "8     forest_grid_best      542.564568     3578.276853    3486.491399\n",
       "2           forest_reg      871.551513     3760.656603    4054.087972\n",
       "4            ridge_reg     2279.332979     4003.672048    4306.865551\n",
       "9    ridge_random_best     2233.765835     4011.406018    4266.202222\n",
       "10     ridge_grid_best     2233.634917     4012.155178    4265.563307\n",
       "1             tree_reg      242.876650     4400.280810    5329.059649\n",
       "0              lin_reg     2072.601132     4402.680016    4016.909552\n",
       "3              sgd_reg     2098.571332     4631.777616    4115.050502\n",
       "5     tree_random_best      974.537924     4688.682794    4102.632706\n",
       "6       tree_grid_best     1812.334871     5784.553048    5461.305218"
      ]
     },
     "execution_count": 173,
     "metadata": {},
     "output_type": "execute_result"
    }
   ],
   "source": [
    "final_scores = pd.merge(errors, test_set_RMSE, on='model')\n",
    "final_scores.reset_index(inplace=True, drop=True)\n",
    "final_scores.sort_values('cross_val_RMSE')"
   ]
  },
  {
   "cell_type": "code",
   "execution_count": 191,
   "metadata": {},
   "outputs": [
    {
     "data": {
      "text/plain": [
       "Text(0, 0.5, 'RMSE')"
      ]
     },
     "execution_count": 191,
     "metadata": {},
     "output_type": "execute_result"
    },
    {
     "data": {
      "image/png": "[encoded data removed]",
      "text/plain": [
       "<Figure size 720x432 with 1 Axes>"
      ]
     },
     "metadata": {
      "needs_background": "light"
     },
     "output_type": "display_data"
    }
   ],
   "source": [
    "ax = final_scores.sort_values('cross_val_RMSE').plot.bar(x='model', rot=90, figsize=(10, 6))\n",
    "plt.ylabel('RMSE')"
   ]
  },
  {
   "cell_type": "markdown",
   "metadata": {},
   "source": [
    "## Feature Importance"
   ]
  },
  {
   "cell_type": "code",
   "execution_count": 109,
   "metadata": {},
   "outputs": [],
   "source": [
    "attributes = auto_price.columns\n",
    "\n",
    "feature_importances = forest_random_best.feature_importances_\n",
    "sorted(zip(feature_importances, attributes), reverse=True)"
   ]
  },
  {
   "cell_type": "code",
   "execution_count": 112,
   "metadata": {},
   "outputs": [
    {
     "data": {
      "text/plain": [
       "[3, 5, 14, 0, 4, 1, 6, 19, 12]"
      ]
     },
     "execution_count": 112,
     "metadata": {},
     "output_type": "execute_result"
    }
   ],
   "source": [
    "columns_to_drop = ['fuel_type', 'num_of_doors', 'engine_type', 'symboling', 'aspiration', 'normalized_losses',\n",
    "           'body_style', 'stroke', 'height' ]\n",
    "index = []\n",
    "\n",
    "for c in columns_to_drop:\n",
    "    i = auto_price.columns.get_loc(c)\n",
    "    index.append(i)\n",
    "    \n",
    "index\n"
   ]
  },
  {
   "cell_type": "code",
   "execution_count": 113,
   "metadata": {
    "scrolled": true
   },
   "outputs": [
    {
     "data": {
      "text/plain": [
       "array([[-1.78849872e+00, -2.39149182e+00, -1.21866670e-01,\n",
       "         1.07109553e-01,  2.07255902e-01,  4.09464769e-01,\n",
       "         5.16807182e-01,  5.74572409e-01,  5.80663340e-01,\n",
       "         8.69567500e-01, -5.15795184e-01, -5.40724994e-01,\n",
       "         4.28178552e-01,  8.55716568e-01, -1.14104274e+00,\n",
       "        -1.36786185e+00],\n",
       "       [-5.10442991e-01,  1.21333041e+00, -1.21866670e-01,\n",
       "         2.80393159e+00,  2.31984714e+00, -9.25036688e-02,\n",
       "         2.28035100e+00,  3.35695061e+00,  2.81875408e-03,\n",
       "         8.69567500e-01,  4.83479000e-01, -4.65012169e-01,\n",
       "         1.63183440e+00, -8.00248470e-01, -1.46773794e+00,\n",
       "        -2.04314584e+00],\n",
       "       [ 7.67612742e-01, -5.89080707e-01, -1.21866670e-01,\n",
       "         5.71684044e-02,  1.01979099e+00,  4.65239040e-01,\n",
       "         2.91551040e-01, -3.52886991e-01,  3.89340407e-02,\n",
       "         8.69567500e-01, -2.92145526e+00, -2.12636084e-01,\n",
       "         2.77721570e-01,  3.03728222e-01, -6.50999943e-01,\n",
       "        -3.54935856e-01],\n",
       "       [ 9.27369708e-01, -2.39149182e+00, -1.21866670e-01,\n",
       "        -2.92419637e-01, -1.66510240e-01, -1.48277940e-01,\n",
       "        -8.77263968e-02, -3.52886991e-01, -4.30564686e-01,\n",
       "         8.69567500e-01,  1.07564148e+00, -6.16437820e-01,\n",
       "         3.07812966e-01, -6.89850801e-01, -1.60957146e-01,\n",
       "        -1.86114857e-01],\n",
       "       [ 2.88341842e-01, -5.89080707e-01, -1.21866670e-01,\n",
       "        -8.41772273e-01, -5.48401732e-01, -1.04066627e+00,\n",
       "        -7.01886307e-01, -3.52886991e-01, -7.91717552e-01,\n",
       "        -1.12217929e+00, -1.33001859e+00, -1.87398476e-01,\n",
       "        -9.86117075e-01,  8.55716568e-01,  9.82476045e-01,\n",
       "         1.33327413e+00]])"
      ]
     },
     "execution_count": 113,
     "metadata": {},
     "output_type": "execute_result"
    }
   ],
   "source": [
    "X_train_prepared = pd.DataFrame(X_train)\n",
    "X_train_prepared = X_train_prepared.drop(X_train_prepared[index], axis=1)\n",
    "X_train_prepared = np.asarray(X_train_prepared)\n",
    "\n",
    "X_test_prepared = pd.DataFrame(X_test)\n",
    "X_test_prepared = X_test_prepared.drop(X_test_prepared[index], axis=1)\n",
    "X_test_prepared = np.asarray(X_test_prepared)"
   ]
  },
  {
   "cell_type": "markdown",
   "metadata": {},
   "source": [
    "##### Train set error"
   ]
  },
  {
   "cell_type": "code",
   "execution_count": 157,
   "metadata": {},
   "outputs": [
    {
     "data": {
      "text/plain": [
       "926.5708475257895"
      ]
     },
     "execution_count": 157,
     "metadata": {},
     "output_type": "execute_result"
    }
   ],
   "source": [
    "forest_random_best.fit(X_train_prepared, y_train)\n",
    "\n",
    "y_pred = forest_random_best.predict(X_train_prepared)\n",
    "\n",
    "frb_mse_train = mean_squared_error(y_train, y_pred)\n",
    "frb_rmse_train = np.sqrt(frb_mse_train)\n",
    "frb_rmse_train"
   ]
  },
  {
   "cell_type": "markdown",
   "metadata": {},
   "source": [
    "##### Test set error"
   ]
  },
  {
   "cell_type": "code",
   "execution_count": 151,
   "metadata": {},
   "outputs": [
    {
     "data": {
      "text/plain": [
       "3807.1097320940275"
      ]
     },
     "execution_count": 151,
     "metadata": {},
     "output_type": "execute_result"
    }
   ],
   "source": [
    "y_pred = forest_random_best.predict(X_test_prepared)\n",
    "\n",
    "frb_mse_test = mean_squared_error(y_test, y_pred)\n",
    "frb_rmse_test = np.sqrt(frb_mse_test)\n",
    "frb_rmse_test"
   ]
  },
  {
   "cell_type": "markdown",
   "metadata": {},
   "source": [
    "##### Cross Validation error"
   ]
  },
  {
   "cell_type": "code",
   "execution_count": 139,
   "metadata": {},
   "outputs": [
    {
     "name": "stdout",
     "output_type": "stream",
     "text": [
      "Scores: [6683.43678516  883.38466542 3581.41970776 6045.58936939 1954.37954728\n",
      " 5801.10403134 7826.56180108 1028.95404698 4103.79542106 3117.81633592]\n",
      "Mean: 4102.644171139835\n",
      "Standart deviation: 2299.0359010157777\n"
     ]
    }
   ],
   "source": [
    "X_cv_r = pd.DataFrame(X)\n",
    "X_cv_r = X_cv_r.drop(X_cv_r[index], axis=1)\n",
    "X_cv_r = np.asarray(X_cv_r)\n",
    "\n",
    "cv_scores = cross_val_score(forest_random_best, X_cv_r, y, scoring='neg_mean_squared_error', cv=10)\n",
    "cv_rmse_scores = np.sqrt(-cv_scores)\n",
    "display_scores(cv_rmse_scores)"
   ]
  },
  {
   "cell_type": "code",
   "execution_count": 158,
   "metadata": {},
   "outputs": [
    {
     "data": {
      "text/html": [
       "<div>\n",
       "<style scoped>\n",
       "    .dataframe tbody tr th:only-of-type {\n",
       "        vertical-align: middle;\n",
       "    }\n",
       "\n",
       "    .dataframe tbody tr th {\n",
       "        vertical-align: top;\n",
       "    }\n",
       "\n",
       "    .dataframe thead th {\n",
       "        text-align: right;\n",
       "    }\n",
       "</style>\n",
       "<table border=\"1\" class=\"dataframe\">\n",
       "  <thead>\n",
       "    <tr style=\"text-align: right;\">\n",
       "      <th></th>\n",
       "      <th>model</th>\n",
       "      <th>train_set_RMSE</th>\n",
       "      <th>cross_val_RMSE</th>\n",
       "      <th>test_set_RMSE</th>\n",
       "    </tr>\n",
       "  </thead>\n",
       "  <tbody>\n",
       "    <tr>\n",
       "      <th>7</th>\n",
       "      <td>forest_random_best</td>\n",
       "      <td>924.259547</td>\n",
       "      <td>3282.496663</td>\n",
       "      <td>1336.916706</td>\n",
       "    </tr>\n",
       "  </tbody>\n",
       "</table>\n",
       "</div>"
      ],
      "text/plain": [
       "                model  train_set_RMSE  cross_val_RMSE  test_set_RMSE\n",
       "7  forest_random_best      924.259547     3282.496663    1336.916706"
      ]
     },
     "execution_count": 158,
     "metadata": {},
     "output_type": "execute_result"
    }
   ],
   "source": [
    "part = final_scores[final_scores['model']== 'forest_random_best']\n",
    "part"
   ]
  },
  {
   "cell_type": "code",
   "execution_count": 159,
   "metadata": {
    "scrolled": true
   },
   "outputs": [
    {
     "data": {
      "text/html": [
       "<div>\n",
       "<style scoped>\n",
       "    .dataframe tbody tr th:only-of-type {\n",
       "        vertical-align: middle;\n",
       "    }\n",
       "\n",
       "    .dataframe tbody tr th {\n",
       "        vertical-align: top;\n",
       "    }\n",
       "\n",
       "    .dataframe thead th {\n",
       "        text-align: right;\n",
       "    }\n",
       "</style>\n",
       "<table border=\"1\" class=\"dataframe\">\n",
       "  <thead>\n",
       "    <tr style=\"text-align: right;\">\n",
       "      <th></th>\n",
       "      <th>model</th>\n",
       "      <th>train_set_RMSE</th>\n",
       "      <th>cross_val_RMSE</th>\n",
       "      <th>test_set_RMSE</th>\n",
       "    </tr>\n",
       "  </thead>\n",
       "  <tbody>\n",
       "    <tr>\n",
       "      <th>0</th>\n",
       "      <td>forest_random_best</td>\n",
       "      <td>924.259547</td>\n",
       "      <td>3282.496663</td>\n",
       "      <td>1336.916706</td>\n",
       "    </tr>\n",
       "    <tr>\n",
       "      <th>1</th>\n",
       "      <td>forest_random_best_modified</td>\n",
       "      <td>926.570848</td>\n",
       "      <td>4102.644171</td>\n",
       "      <td>3807.109732</td>\n",
       "    </tr>\n",
       "  </tbody>\n",
       "</table>\n",
       "</div>"
      ],
      "text/plain": [
       "                         model  train_set_RMSE  cross_val_RMSE  test_set_RMSE\n",
       "0           forest_random_best      924.259547     3282.496663    1336.916706\n",
       "1  forest_random_best_modified      926.570848     4102.644171    3807.109732"
      ]
     },
     "execution_count": 159,
     "metadata": {},
     "output_type": "execute_result"
    }
   ],
   "source": [
    "new_row = {'model':'forest_random_best_modified', 'train_set_RMSE':frb_rmse_train,\n",
    "           'cross_val_RMSE':np.mean(cv_rmse_scores), 'test_set_RMSE':frb_rmse_test}\n",
    "\n",
    "part = part.append(new_row, ignore_index=True)\n",
    "part"
   ]
  },
  {
   "cell_type": "code",
   "execution_count": 163,
   "metadata": {},
   "outputs": [
    {
     "data": {
      "text/plain": [
       "Text(0, 0.5, 'RMSE')"
      ]
     },
     "execution_count": 163,
     "metadata": {},
     "output_type": "execute_result"
    },
    {
     "data": {
      "image/png": "[encoded data removed]",
      "text/plain": [
       "<Figure size 432x288 with 1 Axes>"
      ]
     },
     "metadata": {
      "needs_background": "light"
     },
     "output_type": "display_data"
    }
   ],
   "source": [
    "ax = part.sort_values('cross_val_RMSE').plot.bar(x='model', rot=90, figsize=(6, 4))\n",
    "plt.ylabel('RMSE')"
   ]
  },
  {
   "cell_type": "markdown",
   "metadata": {},
   "source": [
    "## Finding Model Accuracy"
   ]
  },
  {
   "cell_type": "code",
   "execution_count": 176,
   "metadata": {},
   "outputs": [],
   "source": [
    "def test_accuracy(model, test_set, test_label):\n",
    "    pred = model.predict(test_set)\n",
    "    error = abs(pred - test_label)\n",
    "    accuracy = 100 - (100 * np.mean(error / test_label))\n",
    "    return accuracy"
   ]
  },
  {
   "cell_type": "code",
   "execution_count": 194,
   "metadata": {},
   "outputs": [],
   "source": [
    "forest_random_best.fit(X_train, y_train)\n",
    "\n",
    "models = [lin_reg, tree_reg, forest_reg, sgd_reg, ridge_reg, tree_random_best, tree_grid_best,\n",
    "         forest_random_best, forest_grid_best, ridge_random_best, ridge_grid_best]\n",
    "\n",
    "accuracy_values = []\n",
    "\n",
    "for model in models:\n",
    "    result = test_accuracy(model, X_test, y_test)\n",
    "    accuracy_values.append(result)\n",
    "    \n",
    "    \n",
    "final_scores['accuracy_values']=accuracy_values"
   ]
  },
  {
   "cell_type": "markdown",
   "metadata": {},
   "source": [
    "### Visualizing the Accuracy"
   ]
  },
  {
   "cell_type": "code",
   "execution_count": 274,
   "metadata": {
    "scrolled": false
   },
   "outputs": [
    {
     "data": {
      "text/plain": [
       "(75, 90)"
      ]
     },
     "execution_count": 274,
     "metadata": {},
     "output_type": "execute_result"
    },
    {
     "data": {
      "image/png": "[encoded data removed]",
      "text/plain": [
       "<Figure size 640x400 with 1 Axes>"
      ]
     },
     "metadata": {},
     "output_type": "display_data"
    }
   ],
   "source": [
    "# Plot bars\n",
    "plt.style.use('seaborn-white')\n",
    "ax = final_scores[['model', 'accuracy_values']].sort_values('accuracy_values').plot.bar(\n",
    "    x='model',rot=90, figsize=(8,5), color = 'blue')\n",
    "\n",
    "# Remove spines\n",
    "for s in ['top', 'bottom', 'left', 'right']: \n",
    "    ax.spines[s].set_visible(False) \n",
    "\n",
    "# Add x,y gridlines    \n",
    "ax.grid(b = True, color ='grey', linestyle ='-', linewidth = 0.5, alpha = 0.4)\n",
    "\n",
    "# Add y axis label\n",
    "plt.ylabel('accuracy')\n",
    "\n",
    "# Add limit to y axis\n",
    "plt.ylim(75,90)"
   ]
  },
  {
   "cell_type": "markdown",
   "metadata": {},
   "source": [
    "## Conclusion"
   ]
  },
  {
   "cell_type": "code",
   "execution_count": null,
   "metadata": {},
   "outputs": [],
   "source": []
  }
 ],
 "metadata": {
  "kernelspec": {
   "display_name": "Python 3",
   "language": "python",
   "name": "python3"
  },
  "language_info": {
   "codemirror_mode": {
    "name": "ipython",
    "version": 3
   },
   "file_extension": ".py",
   "mimetype": "text/x-python",
   "name": "python",
   "nbconvert_exporter": "python",
   "pygments_lexer": "ipython3",
   "version": "3.7.3"
  }
 },
 "nbformat": 4,
 "nbformat_minor": 4
}
